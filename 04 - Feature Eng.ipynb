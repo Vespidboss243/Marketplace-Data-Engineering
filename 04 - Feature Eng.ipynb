{
 "cells": [
  {
   "cell_type": "code",
   "execution_count": 0,
   "metadata": {
    "application/vnd.databricks.v1+cell": {
     "cellMetadata": {
      "byteLimit": 2048000,
      "rowLimit": 10000
     },
     "inputWidgets": {},
     "nuid": "275f249a-d1da-4459-a6b2-14d3ccae9ab7",
     "showTitle": false,
     "tableResultSettingsMap": {},
     "title": ""
    }
   },
   "outputs": [],
   "source": [
    "from pyspark.sql.functions import *\n",
    "from pyspark.sql import *\n",
    "from pyspark.sql.types import *\n",
    "from pyspark.sql.window import Window"
   ]
  },
  {
   "cell_type": "code",
   "execution_count": 0,
   "metadata": {
    "application/vnd.databricks.v1+cell": {
     "cellMetadata": {
      "byteLimit": 2048000,
      "rowLimit": 10000
     },
     "inputWidgets": {},
     "nuid": "ca8f2e6e-0efb-4bb5-9de4-2339d4a4ada6",
     "showTitle": false,
     "tableResultSettingsMap": {},
     "title": ""
    }
   },
   "outputs": [
    {
     "output_type": "stream",
     "name": "stdout",
     "output_type": "stream",
     "text": [
      "Remote blob path: wasbs://marketplace@bgupb202402juanbarriento.blob.core.windows.net/\n"
     ]
    }
   ],
   "source": [
    " # Azure storage access info\n",
    "blob_account_name = \"bgupb202402juanbarriento\"\n",
    "blob_container_name = \"marketplace\"\n",
    "blob_sas_token = 'sv=2022-11-02&ss=bfqt&srt=sco&sp=rwdlacupiytfx&se=2024-12-01T01:56:16Z&st=2024-10-16T17:56:16Z&spr=https&sig=cM7vK4vvrL9YH31ZYI%2BX%2BmssMUTdRieP%2BMGcVNPoagA%3D'\n",
    "\n",
    "# Allow SPARK to read from Blob remotely\n",
    "wasbs_path = f'wasbs://{blob_container_name}@{blob_account_name}.blob.core.windows.net/'\n",
    "spark.conf.set( f'fs.azure.sas.{blob_container_name}.{blob_account_name}.blob.core.windows.net' , blob_sas_token)\n",
    "print('Remote blob path: ' + wasbs_path)"
   ]
  },
  {
   "cell_type": "code",
   "execution_count": 0,
   "metadata": {
    "application/vnd.databricks.v1+cell": {
     "cellMetadata": {
      "byteLimit": 2048000,
      "rowLimit": 10000
     },
     "inputWidgets": {},
     "nuid": "0d1aa9ab-baec-45ab-bc87-5a6ed9edf86d",
     "showTitle": false,
     "tableResultSettingsMap": {},
     "title": ""
    }
   },
   "outputs": [],
   "source": [
    "# Load silver table\n",
    "silver_df = spark.read.format(\"delta\").load(f\"{wasbs_path}silver\")"
   ]
  },
  {
   "cell_type": "markdown",
   "metadata": {
    "application/vnd.databricks.v1+cell": {
     "cellMetadata": {},
     "inputWidgets": {},
     "nuid": "08c97d8f-fa34-4a10-a267-0cc2e6565591",
     "showTitle": false,
     "tableResultSettingsMap": {},
     "title": ""
    }
   },
   "source": [
    "# Transformations"
   ]
  },
  {
   "cell_type": "markdown",
   "metadata": {
    "application/vnd.databricks.v1+cell": {
     "cellMetadata": {},
     "inputWidgets": {},
     "nuid": "dd3a133c-2f1c-4468-8984-a5e11ce593b0",
     "showTitle": false,
     "tableResultSettingsMap": {},
     "title": ""
    }
   },
   "source": [
    "Bases in the month to month sales, classify the clients by growing.\n",
    "1. if the grow is >= 10% set the target to 1\n",
    "1. otherwise set the target to 0"
   ]
  },
  {
   "cell_type": "code",
   "execution_count": 0,
   "metadata": {
    "application/vnd.databricks.v1+cell": {
     "cellMetadata": {
      "byteLimit": 2048000,
      "implicitDf": true,
      "rowLimit": 10000
     },
     "inputWidgets": {},
     "nuid": "b4a83d73-7667-4081-8fad-331791b20e70",
     "showTitle": false,
     "tableResultSettingsMap": {},
     "title": ""
    }
   },
   "outputs": [
    {
     "output_type": "display_data",
     "data": {
      "text/html": [
       "<style scoped>\n",
       "  .table-result-container {\n",
       "    max-height: 300px;\n",
       "    overflow: auto;\n",
       "  }\n",
       "  table, th, td {\n",
       "    border: 1px solid black;\n",
       "    border-collapse: collapse;\n",
       "  }\n",
       "  th, td {\n",
       "    padding: 5px;\n",
       "  }\n",
       "  th {\n",
       "    text-align: left;\n",
       "  }\n",
       "</style><div class='table-result-container'><table class='table-result'><thead style='background-color: white'><tr><th>event_type</th></tr></thead><tbody><tr><td>purchase</td></tr><tr><td>view</td></tr><tr><td>cart</td></tr></tbody></table></div>"
      ]
     },
     "metadata": {
      "application/vnd.databricks.v1+output": {
       "addedWidgets": {},
       "aggData": [],
       "aggError": "",
       "aggOverflow": false,
       "aggSchema": [],
       "aggSeriesLimitReached": false,
       "aggType": "",
       "arguments": {},
       "columnCustomDisplayInfos": {},
       "data": [
        [
         "purchase"
        ],
        [
         "view"
        ],
        [
         "cart"
        ]
       ],
       "datasetInfos": [],
       "dbfsResultPath": null,
       "isJsonSchema": true,
       "metadata": {
        "dataframeName": "_sqldf",
        "executionCount": 6
       },
       "overflow": false,
       "plotOptions": {
        "customPlotOptions": {},
        "displayType": "table",
        "pivotAggregation": null,
        "pivotColumns": null,
        "xColumns": null,
        "yColumns": null
       },
       "removedWidgets": [],
       "schema": [
        {
         "metadata": "{}",
         "name": "event_type",
         "type": "\"string\""
        }
       ],
       "type": "table"
      }
     },
     "output_type": "display_data"
    }
   ],
   "source": [
    "%sql\n",
    "SELECT DISTINCT event_type FROM jdbr_mkp.mkp_silver"
   ]
  },
  {
   "cell_type": "code",
   "execution_count": 0,
   "metadata": {
    "application/vnd.databricks.v1+cell": {
     "cellMetadata": {
      "byteLimit": 2048000,
      "rowLimit": 10000
     },
     "inputWidgets": {},
     "nuid": "03082556-0af5-4335-b319-6e5595d66e46",
     "showTitle": false,
     "tableResultSettingsMap": {},
     "title": ""
    }
   },
   "outputs": [],
   "source": [
    "purchase_df = silver_df.filter(col('event_type') == 'purchase') \\\n",
    "    .groupBy('user_id', 'year','month').sum('price') \\\n",
    "    .withColumnRenamed('sum(price)', 'purchase_amount') \\\n",
    "    .orderBy('user_id', 'year', 'month')"
   ]
  },
  {
   "cell_type": "code",
   "execution_count": 0,
   "metadata": {
    "application/vnd.databricks.v1+cell": {
     "cellMetadata": {
      "byteLimit": 2048000,
      "rowLimit": 10000
     },
     "inputWidgets": {},
     "nuid": "2aa86fba-7781-4091-8c7e-4176bfa10797",
     "showTitle": false,
     "tableResultSettingsMap": {},
     "title": ""
    }
   },
   "outputs": [],
   "source": [
    "display(purchase_df)"
   ]
  },
  {
   "cell_type": "code",
   "execution_count": 0,
   "metadata": {
    "application/vnd.databricks.v1+cell": {
     "cellMetadata": {
      "byteLimit": 2048000,
      "rowLimit": 10000
     },
     "inputWidgets": {},
     "nuid": "4a823014-32d1-45e2-b3b3-6ea5687c14ac",
     "showTitle": false,
     "tableResultSettingsMap": {},
     "title": ""
    }
   },
   "outputs": [],
   "source": [
    "window_specs = Window.partitionBy('user_id').orderBy('user_id', 'year', 'month')"
   ]
  },
  {
   "cell_type": "code",
   "execution_count": 0,
   "metadata": {
    "application/vnd.databricks.v1+cell": {
     "cellMetadata": {
      "byteLimit": 2048000,
      "rowLimit": 10000
     },
     "inputWidgets": {},
     "nuid": "a0b4edce-aa34-404e-8c50-25c8dbb25065",
     "showTitle": false,
     "tableResultSettingsMap": {},
     "title": ""
    }
   },
   "outputs": [],
   "source": [
    "purchase_lag_df = purchase_df.withColumn('purchase_lag', lag(purchase_df.purchase_amount).over(window_specs).cast('double'))"
   ]
  },
  {
   "cell_type": "code",
   "execution_count": 0,
   "metadata": {
    "application/vnd.databricks.v1+cell": {
     "cellMetadata": {
      "byteLimit": 2048000,
      "rowLimit": 10000
     },
     "inputWidgets": {},
     "nuid": "9bf6b789-26f8-4bad-bb74-a3248c7dc438",
     "showTitle": false,
     "tableResultSettingsMap": {},
     "title": ""
    }
   },
   "outputs": [],
   "source": [
    "display(purchase_lag_df)"
   ]
  },
  {
   "cell_type": "code",
   "execution_count": 0,
   "metadata": {
    "application/vnd.databricks.v1+cell": {
     "cellMetadata": {
      "byteLimit": 2048000,
      "rowLimit": 10000
     },
     "inputWidgets": {},
     "nuid": "040e9a36-37f4-4aab-bc28-18e2fec11316",
     "showTitle": false,
     "tableResultSettingsMap": {},
     "title": ""
    }
   },
   "outputs": [],
   "source": [
    "grow_delta_df = purchase_lag_df.withColumn('delta_revenue', (purchase_lag_df.purchase_amount - purchase_lag_df.purchase_lag).cast('double'))"
   ]
  },
  {
   "cell_type": "code",
   "execution_count": 0,
   "metadata": {
    "application/vnd.databricks.v1+cell": {
     "cellMetadata": {
      "byteLimit": 2048000,
      "rowLimit": 10000
     },
     "inputWidgets": {},
     "nuid": "beb731df-5c07-482f-b118-c9f4429c9ed4",
     "showTitle": false,
     "tableResultSettingsMap": {},
     "title": ""
    }
   },
   "outputs": [],
   "source": [
    "grow_percent_df = grow_delta_df.withColumn('percent_delta_revenue', (grow_delta_df['delta_revenue'] / grow_delta_df['purchase_lag']).cast('double'))"
   ]
  },
  {
   "cell_type": "code",
   "execution_count": 0,
   "metadata": {
    "application/vnd.databricks.v1+cell": {
     "cellMetadata": {
      "byteLimit": 2048000,
      "rowLimit": 10000
     },
     "inputWidgets": {},
     "nuid": "473824be-082d-49d0-bd66-ba733fde421e",
     "showTitle": false,
     "tableResultSettingsMap": {},
     "title": ""
    }
   },
   "outputs": [],
   "source": [
    "display(grow_percent_df)"
   ]
  },
  {
   "cell_type": "code",
   "execution_count": 0,
   "metadata": {
    "application/vnd.databricks.v1+cell": {
     "cellMetadata": {
      "byteLimit": 2048000,
      "rowLimit": 10000
     },
     "inputWidgets": {},
     "nuid": "c2e02992-233e-485e-9e2a-de61a39544e8",
     "showTitle": false,
     "tableResultSettingsMap": {},
     "title": ""
    }
   },
   "outputs": [],
   "source": [
    "grow_target_df = grow_percent_df.withColumn('target', when(grow_percent_df['percent_delta_revenue'] >= 0.1, 1).otherwise(0)).filter(col('target').isNotNull())"
   ]
  },
  {
   "cell_type": "code",
   "execution_count": 0,
   "metadata": {
    "application/vnd.databricks.v1+cell": {
     "cellMetadata": {
      "byteLimit": 2048000,
      "rowLimit": 10000
     },
     "inputWidgets": {},
     "nuid": "70bd07eb-8f68-4932-af71-d6713686ceb8",
     "showTitle": false,
     "tableResultSettingsMap": {},
     "title": ""
    }
   },
   "outputs": [],
   "source": [
    "display(grow_target_df)"
   ]
  },
  {
   "cell_type": "code",
   "execution_count": 0,
   "metadata": {
    "application/vnd.databricks.v1+cell": {
     "cellMetadata": {
      "byteLimit": 2048000,
      "rowLimit": 10000
     },
     "inputWidgets": {},
     "nuid": "26045535-96ad-4e65-b749-b3c3ca267324",
     "showTitle": false,
     "tableResultSettingsMap": {},
     "title": ""
    }
   },
   "outputs": [],
   "source": [
    "grow_target_df = grow_target_df.drop('purchase_amount', 'delta_revenue', 'percent_delta_revenue', 'purchase_lag') "
   ]
  },
  {
   "cell_type": "code",
   "execution_count": 0,
   "metadata": {
    "application/vnd.databricks.v1+cell": {
     "cellMetadata": {
      "byteLimit": 2048000,
      "rowLimit": 10000
     },
     "inputWidgets": {},
     "nuid": "47b1ac6d-668e-403c-867b-2b4347341fe7",
     "showTitle": false,
     "tableResultSettingsMap": {},
     "title": ""
    }
   },
   "outputs": [],
   "source": [
    "grow_target_df.write.format(\"delta\").mode(\"overwrite\").save(f\"{wasbs_path}features/grow_target\")"
   ]
  },
  {
   "cell_type": "markdown",
   "metadata": {
    "application/vnd.databricks.v1+cell": {
     "cellMetadata": {},
     "inputWidgets": {},
     "nuid": "cda1256b-4256-4b66-8b48-33089772346a",
     "showTitle": false,
     "tableResultSettingsMap": {},
     "title": ""
    }
   },
   "source": [
    "# Aggregations"
   ]
  },
  {
   "cell_type": "markdown",
   "metadata": {
    "application/vnd.databricks.v1+cell": {
     "cellMetadata": {},
     "inputWidgets": {},
     "nuid": "733d9b8f-c3b9-444d-8050-83671e3893bd",
     "showTitle": false,
     "tableResultSettingsMap": {},
     "title": ""
    }
   },
   "source": [
    "## Number of sessions by user, year, month"
   ]
  },
  {
   "cell_type": "code",
   "execution_count": 0,
   "metadata": {
    "application/vnd.databricks.v1+cell": {
     "cellMetadata": {
      "byteLimit": 2048000,
      "rowLimit": 10000
     },
     "inputWidgets": {},
     "nuid": "26601e32-19e2-4347-a78c-69de2fbff70b",
     "showTitle": false,
     "tableResultSettingsMap": {},
     "title": ""
    }
   },
   "outputs": [],
   "source": [
    "sessions_per_user_year_month_df = silver_df.groupBy(\"user_id\", \"year\", \"month\").agg(countDistinct(\"user_session\").alias('session_per_user_year_month')).orderBy(\"user_id\",\"year\", \"month\")"
   ]
  },
  {
   "cell_type": "code",
   "execution_count": 0,
   "metadata": {
    "application/vnd.databricks.v1+cell": {
     "cellMetadata": {
      "byteLimit": 2048000,
      "rowLimit": 10000
     },
     "inputWidgets": {},
     "nuid": "ac66bd4b-0b20-407f-b506-ef1f489d8f28",
     "showTitle": false,
     "tableResultSettingsMap": {},
     "title": ""
    }
   },
   "outputs": [
    {
     "output_type": "display_data",
     "data": {
      "text/html": [
       "<style scoped>\n",
       "  .table-result-container {\n",
       "    max-height: 300px;\n",
       "    overflow: auto;\n",
       "  }\n",
       "  table, th, td {\n",
       "    border: 1px solid black;\n",
       "    border-collapse: collapse;\n",
       "  }\n",
       "  th, td {\n",
       "    padding: 5px;\n",
       "  }\n",
       "  th {\n",
       "    text-align: left;\n",
       "  }\n",
       "</style><div class='table-result-container'><table class='table-result'><thead style='background-color: white'><tr><th>user_id</th><th>year</th><th>month</th><th>session_per_user_year_month</th></tr></thead><tbody><tr><td>100037567</td><td>2019</td><td>12</td><td>10</td></tr><tr><td>100037567</td><td>2020</td><td>1</td><td>75</td></tr><tr><td>100140882</td><td>2019</td><td>12</td><td>12</td></tr><tr><td>100140882</td><td>2020</td><td>1</td><td>32</td></tr><tr><td>100140882</td><td>2020</td><td>2</td><td>29</td></tr><tr><td>100140882</td><td>2020</td><td>3</td><td>13</td></tr><tr><td>100140882</td><td>2020</td><td>4</td><td>4</td></tr><tr><td>100594172</td><td>2019</td><td>12</td><td>1</td></tr><tr><td>100705743</td><td>2019</td><td>12</td><td>2</td></tr><tr><td>100705743</td><td>2020</td><td>1</td><td>1</td></tr><tr><td>100705743</td><td>2020</td><td>3</td><td>3</td></tr><tr><td>100705743</td><td>2020</td><td>4</td><td>1</td></tr><tr><td>100963605</td><td>2020</td><td>3</td><td>1</td></tr><tr><td>100995136</td><td>2020</td><td>1</td><td>1</td></tr><tr><td>100995136</td><td>2020</td><td>2</td><td>4</td></tr><tr><td>101201515</td><td>2019</td><td>12</td><td>1</td></tr><tr><td>101201515</td><td>2020</td><td>3</td><td>4</td></tr><tr><td>101875240</td><td>2020</td><td>1</td><td>4</td></tr><tr><td>102850785</td><td>2020</td><td>2</td><td>5</td></tr><tr><td>104397540</td><td>2020</td><td>2</td><td>1</td></tr></tbody></table></div>"
      ]
     },
     "metadata": {
      "application/vnd.databricks.v1+output": {
       "addedWidgets": {},
       "aggData": [],
       "aggError": "",
       "aggOverflow": false,
       "aggSchema": [],
       "aggSeriesLimitReached": false,
       "aggType": "",
       "arguments": {},
       "columnCustomDisplayInfos": {},
       "data": [
        [
         "100037567",
         2019,
         12,
         10
        ],
        [
         "100037567",
         2020,
         1,
         75
        ],
        [
         "100140882",
         2019,
         12,
         12
        ],
        [
         "100140882",
         2020,
         1,
         32
        ],
        [
         "100140882",
         2020,
         2,
         29
        ],
        [
         "100140882",
         2020,
         3,
         13
        ],
        [
         "100140882",
         2020,
         4,
         4
        ],
        [
         "100594172",
         2019,
         12,
         1
        ],
        [
         "100705743",
         2019,
         12,
         2
        ],
        [
         "100705743",
         2020,
         1,
         1
        ],
        [
         "100705743",
         2020,
         3,
         3
        ],
        [
         "100705743",
         2020,
         4,
         1
        ],
        [
         "100963605",
         2020,
         3,
         1
        ],
        [
         "100995136",
         2020,
         1,
         1
        ],
        [
         "100995136",
         2020,
         2,
         4
        ],
        [
         "101201515",
         2019,
         12,
         1
        ],
        [
         "101201515",
         2020,
         3,
         4
        ],
        [
         "101875240",
         2020,
         1,
         4
        ],
        [
         "102850785",
         2020,
         2,
         5
        ],
        [
         "104397540",
         2020,
         2,
         1
        ]
       ],
       "datasetInfos": [],
       "dbfsResultPath": null,
       "isJsonSchema": true,
       "metadata": {},
       "overflow": false,
       "plotOptions": {
        "customPlotOptions": {},
        "displayType": "table",
        "pivotAggregation": null,
        "pivotColumns": null,
        "xColumns": null,
        "yColumns": null
       },
       "removedWidgets": [],
       "schema": [
        {
         "metadata": "{}",
         "name": "user_id",
         "type": "\"string\""
        },
        {
         "metadata": "{}",
         "name": "year",
         "type": "\"long\""
        },
        {
         "metadata": "{}",
         "name": "month",
         "type": "\"long\""
        },
        {
         "metadata": "{}",
         "name": "session_per_user_year_month",
         "type": "\"long\""
        }
       ],
       "type": "table"
      }
     },
     "output_type": "display_data"
    }
   ],
   "source": [
    "display(sessions_per_user_year_month_df.head(20))"
   ]
  },
  {
   "cell_type": "code",
   "execution_count": 0,
   "metadata": {
    "application/vnd.databricks.v1+cell": {
     "cellMetadata": {
      "byteLimit": 2048000,
      "implicitDf": true,
      "rowLimit": 10000
     },
     "inputWidgets": {},
     "nuid": "ad716c0e-9513-4295-8d00-40e97686b3f8",
     "showTitle": false,
     "tableResultSettingsMap": {},
     "title": ""
    }
   },
   "outputs": [],
   "source": [
    "%sql\n",
    "SELECT user_id, year, month, COUNT(DISTINCT user_session) as session_per_user_year_month\n",
    "FROM jdbr_mkp.mkp_silver\n",
    "GROUP BY user_id, year, month\n",
    "ORDER BY user_id, year, month"
   ]
  },
  {
   "cell_type": "code",
   "execution_count": 0,
   "metadata": {
    "application/vnd.databricks.v1+cell": {
     "cellMetadata": {
      "byteLimit": 2048000,
      "rowLimit": 10000
     },
     "inputWidgets": {},
     "nuid": "317b1145-de72-434a-800f-13bb86d8a644",
     "showTitle": false,
     "tableResultSettingsMap": {},
     "title": ""
    }
   },
   "outputs": [],
   "source": [
    "df = spark.sql(\"\"\"\n",
    "SELECT user_id, year, month, COUNT(DISTINCT user_session) as session_per_user_year_month\n",
    "FROM jdbr_mkp.mkp_silver\n",
    "GROUP BY user_id, year, month\n",
    "ORDER BY user_id, year, month\"\"\")"
   ]
  },
  {
   "cell_type": "markdown",
   "metadata": {
    "application/vnd.databricks.v1+cell": {
     "cellMetadata": {
      "byteLimit": 2048000,
      "rowLimit": 10000
     },
     "inputWidgets": {},
     "nuid": "fb4c3b84-1c30-487e-80f2-589407083428",
     "showTitle": false,
     "tableResultSettingsMap": {},
     "title": ""
    }
   },
   "source": [
    "## user session delta time"
   ]
  },
  {
   "cell_type": "code",
   "execution_count": 0,
   "metadata": {
    "application/vnd.databricks.v1+cell": {
     "cellMetadata": {
      "byteLimit": 2048000,
      "rowLimit": 10000
     },
     "inputWidgets": {},
     "nuid": "79a6d571-9a78-4b9e-9d91-cbac285aff50",
     "showTitle": false,
     "tableResultSettingsMap": {},
     "title": ""
    }
   },
   "outputs": [],
   "source": [
    "session_duration_df = silver_df.groupBy(\"user_id\", \"year\", \"month\").agg(min(\"event_time_timestamp\"),max(\"event_time_timestamp\"))"
   ]
  },
  {
   "cell_type": "code",
   "execution_count": 0,
   "metadata": {
    "application/vnd.databricks.v1+cell": {
     "cellMetadata": {
      "byteLimit": 2048000,
      "rowLimit": 10000
     },
     "inputWidgets": {},
     "nuid": "0c997db5-73f1-4054-88de-907ea32e391e",
     "showTitle": false,
     "tableResultSettingsMap": {},
     "title": ""
    }
   },
   "outputs": [],
   "source": [
    "display(session_duration_df.withColumn(\"session_duration\", col(\"max(event_time_timestamp)\") - col(\"min(event_time_timestamp)\")))"
   ]
  },
  {
   "cell_type": "code",
   "execution_count": 0,
   "metadata": {
    "application/vnd.databricks.v1+cell": {
     "cellMetadata": {
      "byteLimit": 2048000,
      "rowLimit": 10000
     },
     "inputWidgets": {},
     "nuid": "7d690764-2d82-406a-86d1-299438ab69dd",
     "showTitle": false,
     "tableResultSettingsMap": {},
     "title": ""
    }
   },
   "outputs": [],
   "source": [
    "session_duration_df = session_duration_df.withColumn(\"session_duration\", (col(\"max(event_time_timestamp)\") - col(\"min(event_time_timestamp)\")).cast('long')).drop(\"max(event_time_timestamp)\", \"min(event_time_timestamp)\")"
   ]
  },
  {
   "cell_type": "code",
   "execution_count": 0,
   "metadata": {
    "application/vnd.databricks.v1+cell": {
     "cellMetadata": {
      "byteLimit": 2048000,
      "rowLimit": 10000
     },
     "inputWidgets": {},
     "nuid": "dc0f4af5-4fe0-4dcb-b222-bfdbff3e30a3",
     "showTitle": false,
     "tableResultSettingsMap": {},
     "title": ""
    }
   },
   "outputs": [],
   "source": [
    "display(session_duration_df)"
   ]
  },
  {
   "cell_type": "code",
   "execution_count": 0,
   "metadata": {
    "application/vnd.databricks.v1+cell": {
     "cellMetadata": {
      "byteLimit": 2048000,
      "rowLimit": 10000
     },
     "inputWidgets": {},
     "nuid": "37d06ded-4e90-4150-a4ff-dd8a7385d0df",
     "showTitle": false,
     "tableResultSettingsMap": {},
     "title": ""
    }
   },
   "outputs": [],
   "source": [
    "session_duration_df.write.format(\"delta\").mode(\"overwrite\").save(f\"{wasbs_path}features/session_duration\")"
   ]
  },
  {
   "cell_type": "code",
   "execution_count": 0,
   "metadata": {
    "application/vnd.databricks.v1+cell": {
     "cellMetadata": {
      "byteLimit": 2048000,
      "rowLimit": 10000
     },
     "inputWidgets": {},
     "nuid": "0a4b9707-2948-4d94-832f-7989494ca699",
     "showTitle": false,
     "tableResultSettingsMap": {},
     "title": ""
    }
   },
   "outputs": [],
   "source": [
    "sessions_per_user_year_month_df.write.format(\"delta\").mode(\"overwrite\").save(f\"{wasbs_path}features/sessions_per_user_year_month\")"
   ]
  },
  {
   "cell_type": "markdown",
   "metadata": {
    "application/vnd.databricks.v1+cell": {
     "cellMetadata": {},
     "inputWidgets": {},
     "nuid": "10a46c69-f056-4739-bb79-50e19f25380f",
     "showTitle": false,
     "tableResultSettingsMap": {},
     "title": ""
    }
   },
   "source": [
    "## Convertion rate\n",
    "purchases / user visits per month\n"
   ]
  },
  {
   "cell_type": "code",
   "execution_count": 0,
   "metadata": {
    "application/vnd.databricks.v1+cell": {
     "cellMetadata": {
      "byteLimit": 2048000,
      "rowLimit": 10000
     },
     "inputWidgets": {},
     "nuid": "a1b8dcaf-b671-4cf9-9939-0b5331417aa6",
     "showTitle": false,
     "tableResultSettingsMap": {},
     "title": ""
    }
   },
   "outputs": [],
   "source": [
    "convertion_rate_per_user_year_month_df = silver_df.groupBy('user_id', 'year', 'month')\\\n",
    "    .agg(\n",
    "        count(when(col('event_type') == 'view', True)).alias('num_views'),\n",
    "        count(when(col('event_type') == 'purchase', True)).alias('num_purchase'),\n",
    "    )\\\n",
    "    .fillna({'num_views':0, 'num_purchase':0})\\\n",
    "    .withColumn('convertion_rate', (col('num_purchase')/col('num_views')))\\\n",
    "    .drop('num_purchase','num_views')\\\n",
    "    .orderBy('user_id','year','month')"
   ]
  },
  {
   "cell_type": "code",
   "execution_count": 0,
   "metadata": {
    "application/vnd.databricks.v1+cell": {
     "cellMetadata": {
      "byteLimit": 2048000,
      "rowLimit": 10000
     },
     "inputWidgets": {},
     "nuid": "43c30238-9c96-4bb3-9aef-5f59e0550a97",
     "showTitle": false,
     "tableResultSettingsMap": {},
     "title": ""
    }
   },
   "outputs": [
    {
     "output_type": "display_data",
     "data": {
      "text/html": [
       "<style scoped>\n",
       "  .table-result-container {\n",
       "    max-height: 300px;\n",
       "    overflow: auto;\n",
       "  }\n",
       "  table, th, td {\n",
       "    border: 1px solid black;\n",
       "    border-collapse: collapse;\n",
       "  }\n",
       "  th, td {\n",
       "    padding: 5px;\n",
       "  }\n",
       "  th {\n",
       "    text-align: left;\n",
       "  }\n",
       "</style><div class='table-result-container'><table class='table-result'><thead style='background-color: white'><tr><th>user_id</th><th>year</th><th>month</th><th>convertion_rate</th></tr></thead><tbody><tr><td>100037567</td><td>2019</td><td>12</td><td>0.0</td></tr><tr><td>100037567</td><td>2020</td><td>1</td><td>0.0</td></tr><tr><td>100140882</td><td>2019</td><td>12</td><td>0.0</td></tr><tr><td>100140882</td><td>2020</td><td>1</td><td>0.0</td></tr><tr><td>100140882</td><td>2020</td><td>2</td><td>0.0</td></tr><tr><td>100140882</td><td>2020</td><td>3</td><td>0.0</td></tr><tr><td>100140882</td><td>2020</td><td>4</td><td>0.0</td></tr><tr><td>100594172</td><td>2019</td><td>12</td><td>0.0</td></tr><tr><td>100705743</td><td>2019</td><td>12</td><td>0.0</td></tr><tr><td>100705743</td><td>2020</td><td>1</td><td>0.0</td></tr></tbody></table></div>"
      ]
     },
     "metadata": {
      "application/vnd.databricks.v1+output": {
       "addedWidgets": {},
       "aggData": [],
       "aggError": "",
       "aggOverflow": false,
       "aggSchema": [],
       "aggSeriesLimitReached": false,
       "aggType": "",
       "arguments": {},
       "columnCustomDisplayInfos": {},
       "data": [
        [
         "100037567",
         2019,
         12,
         0.0
        ],
        [
         "100037567",
         2020,
         1,
         0.0
        ],
        [
         "100140882",
         2019,
         12,
         0.0
        ],
        [
         "100140882",
         2020,
         1,
         0.0
        ],
        [
         "100140882",
         2020,
         2,
         0.0
        ],
        [
         "100140882",
         2020,
         3,
         0.0
        ],
        [
         "100140882",
         2020,
         4,
         0.0
        ],
        [
         "100594172",
         2019,
         12,
         0.0
        ],
        [
         "100705743",
         2019,
         12,
         0.0
        ],
        [
         "100705743",
         2020,
         1,
         0.0
        ]
       ],
       "datasetInfos": [],
       "dbfsResultPath": null,
       "isJsonSchema": true,
       "metadata": {},
       "overflow": false,
       "plotOptions": {
        "customPlotOptions": {},
        "displayType": "table",
        "pivotAggregation": null,
        "pivotColumns": null,
        "xColumns": null,
        "yColumns": null
       },
       "removedWidgets": [],
       "schema": [
        {
         "metadata": "{}",
         "name": "user_id",
         "type": "\"string\""
        },
        {
         "metadata": "{}",
         "name": "year",
         "type": "\"long\""
        },
        {
         "metadata": "{}",
         "name": "month",
         "type": "\"long\""
        },
        {
         "metadata": "{}",
         "name": "convertion_rate",
         "type": "\"double\""
        }
       ],
       "type": "table"
      }
     },
     "output_type": "display_data"
    }
   ],
   "source": [
    "display(convertion_rate_per_user_year_month_df.head(10))"
   ]
  },
  {
   "cell_type": "markdown",
   "metadata": {
    "application/vnd.databricks.v1+cell": {
     "cellMetadata": {},
     "inputWidgets": {},
     "nuid": "a20ba87f-2d7e-4bf7-a243-8485fa845e33",
     "showTitle": false,
     "tableResultSettingsMap": {},
     "title": ""
    }
   },
   "source": [
    "## Average Purchase Order Value\n",
    "Average value of purchases by user, year, and month"
   ]
  },
  {
   "cell_type": "code",
   "execution_count": 0,
   "metadata": {
    "application/vnd.databricks.v1+cell": {
     "cellMetadata": {
      "byteLimit": 2048000,
      "rowLimit": 10000
     },
     "inputWidgets": {},
     "nuid": "295d8bd3-046a-4caa-9197-4ee26e09444c",
     "showTitle": false,
     "tableResultSettingsMap": {},
     "title": ""
    }
   },
   "outputs": [],
   "source": [
    "avg_purchase_per_user_year_month_df = silver_df.filter(col('event_type') == 'purchase')\\\n",
    "    .groupBy('user_id', 'year', 'month')\\\n",
    "    .agg(mean(col('price')).alias('mean_price'))\\\n",
    "    .orderBy('user_id','year','month')"
   ]
  },
  {
   "cell_type": "code",
   "execution_count": 0,
   "metadata": {
    "application/vnd.databricks.v1+cell": {
     "cellMetadata": {
      "byteLimit": 2048000,
      "rowLimit": 10000
     },
     "inputWidgets": {},
     "nuid": "eb214c97-1f70-42c2-914b-60f5a74b36e8",
     "showTitle": false,
     "tableResultSettingsMap": {},
     "title": ""
    }
   },
   "outputs": [
    {
     "output_type": "display_data",
     "data": {
      "text/html": [
       "<style scoped>\n",
       "  .table-result-container {\n",
       "    max-height: 300px;\n",
       "    overflow: auto;\n",
       "  }\n",
       "  table, th, td {\n",
       "    border: 1px solid black;\n",
       "    border-collapse: collapse;\n",
       "  }\n",
       "  th, td {\n",
       "    padding: 5px;\n",
       "  }\n",
       "  th {\n",
       "    text-align: left;\n",
       "  }\n",
       "</style><div class='table-result-container'><table class='table-result'><thead style='background-color: white'><tr><th>user_id</th><th>year</th><th>month</th><th>mean_price</th></tr></thead><tbody><tr><td>101875240</td><td>2020</td><td>1</td><td>184.52</td></tr><tr><td>107620212</td><td>2020</td><td>1</td><td>244.28</td></tr><tr><td>128968633</td><td>2019</td><td>12</td><td>119.59666666666668</td></tr><tr><td>136662675</td><td>2019</td><td>12</td><td>102.65</td></tr><tr><td>145611266</td><td>2019</td><td>12</td><td>39.9</td></tr><tr><td>145611266</td><td>2020</td><td>4</td><td>41.66</td></tr><tr><td>177507559</td><td>2019</td><td>12</td><td>154.16</td></tr><tr><td>184265397</td><td>2020</td><td>2</td><td>90.07</td></tr><tr><td>192078182</td><td>2020</td><td>1</td><td>308.86</td></tr><tr><td>192078182</td><td>2020</td><td>3</td><td>110.72</td></tr></tbody></table></div>"
      ]
     },
     "metadata": {
      "application/vnd.databricks.v1+output": {
       "addedWidgets": {},
       "aggData": [],
       "aggError": "",
       "aggOverflow": false,
       "aggSchema": [],
       "aggSeriesLimitReached": false,
       "aggType": "",
       "arguments": {},
       "columnCustomDisplayInfos": {},
       "data": [
        [
         "101875240",
         2020,
         1,
         184.52
        ],
        [
         "107620212",
         2020,
         1,
         244.28
        ],
        [
         "128968633",
         2019,
         12,
         119.59666666666668
        ],
        [
         "136662675",
         2019,
         12,
         102.65
        ],
        [
         "145611266",
         2019,
         12,
         39.9
        ],
        [
         "145611266",
         2020,
         4,
         41.66
        ],
        [
         "177507559",
         2019,
         12,
         154.16
        ],
        [
         "184265397",
         2020,
         2,
         90.07
        ],
        [
         "192078182",
         2020,
         1,
         308.86
        ],
        [
         "192078182",
         2020,
         3,
         110.72
        ]
       ],
       "datasetInfos": [],
       "dbfsResultPath": null,
       "isJsonSchema": true,
       "metadata": {},
       "overflow": false,
       "plotOptions": {
        "customPlotOptions": {},
        "displayType": "table",
        "pivotAggregation": null,
        "pivotColumns": null,
        "xColumns": null,
        "yColumns": null
       },
       "removedWidgets": [],
       "schema": [
        {
         "metadata": "{}",
         "name": "user_id",
         "type": "\"string\""
        },
        {
         "metadata": "{}",
         "name": "year",
         "type": "\"long\""
        },
        {
         "metadata": "{}",
         "name": "month",
         "type": "\"long\""
        },
        {
         "metadata": "{}",
         "name": "mean_price",
         "type": "\"double\""
        }
       ],
       "type": "table"
      }
     },
     "output_type": "display_data"
    }
   ],
   "source": [
    "display(avg_purchase_per_user_year_month_df.head(10))"
   ]
  },
  {
   "cell_type": "markdown",
   "metadata": {
    "application/vnd.databricks.v1+cell": {
     "cellMetadata": {},
     "inputWidgets": {},
     "nuid": "2ebf729b-3a8a-441d-8811-4dd6798f6a3b",
     "showTitle": false,
     "tableResultSettingsMap": {},
     "title": ""
    }
   },
   "source": []
  },
  {
   "cell_type": "markdown",
   "metadata": {
    "application/vnd.databricks.v1+cell": {
     "cellMetadata": {
      "byteLimit": 2048000,
      "rowLimit": 10000
     },
     "inputWidgets": {},
     "nuid": "482fd105-b2cf-4cce-868e-fca2dd4b55e8",
     "showTitle": false,
     "tableResultSettingsMap": {},
     "title": ""
    }
   },
   "source": [
    "## Cart Abandonment Rate"
   ]
  },
  {
   "cell_type": "code",
   "execution_count": 0,
   "metadata": {
    "application/vnd.databricks.v1+cell": {
     "cellMetadata": {
      "byteLimit": 2048000,
      "rowLimit": 10000
     },
     "inputWidgets": {},
     "nuid": "8dbe980f-99bc-46cf-8596-7ad9078d4a31",
     "showTitle": false,
     "tableResultSettingsMap": {},
     "title": ""
    }
   },
   "outputs": [],
   "source": [
    "abandon_rate_per_session_df= silver_df.filter((col('event_type') == 'purchase') | (col('event_type') == 'cart'))\\\n",
    "    .groupBy('user_id', 'year', 'month', 'user_session', 'product_id')\\\n",
    "    .pivot('event_type')\\\n",
    "    .agg(count('product_id'))\\\n",
    "    .fillna({'cart':0, 'purchase':0})\\\n",
    "    .withColumn('cart_abandone_rate', ((col('cart')-col('purchase')))/col('cart'))"
   ]
  },
  {
   "cell_type": "code",
   "execution_count": 0,
   "metadata": {
    "application/vnd.databricks.v1+cell": {
     "cellMetadata": {
      "byteLimit": 2048000,
      "rowLimit": 10000
     },
     "inputWidgets": {},
     "nuid": "cfcf747b-bbf9-4a70-bcf0-3cc17c81b85d",
     "showTitle": false,
     "tableResultSettingsMap": {},
     "title": ""
    }
   },
   "outputs": [
    {
     "output_type": "display_data",
     "data": {
      "text/html": [
       "<style scoped>\n",
       "  .table-result-container {\n",
       "    max-height: 300px;\n",
       "    overflow: auto;\n",
       "  }\n",
       "  table, th, td {\n",
       "    border: 1px solid black;\n",
       "    border-collapse: collapse;\n",
       "  }\n",
       "  th, td {\n",
       "    padding: 5px;\n",
       "  }\n",
       "  th {\n",
       "    text-align: left;\n",
       "  }\n",
       "</style><div class='table-result-container'><table class='table-result'><thead style='background-color: white'><tr><th>user_id</th><th>year</th><th>month</th><th>user_session</th><th>product_id</th><th>cart</th><th>purchase</th><th>cart_abandone_rate</th></tr></thead><tbody><tr><td>587850980</td><td>2019</td><td>12</td><td>c7fa246d-c438-4965-8ab7-3f0004f9104b</td><td>1005112</td><td>1</td><td>1</td><td>0.0</td></tr><tr><td>519275530</td><td>2019</td><td>12</td><td>7e620fda-357c-4139-82ca-22104b1793c9</td><td>1005169</td><td>1</td><td>1</td><td>0.0</td></tr><tr><td>539302311</td><td>2019</td><td>12</td><td>23d07d81-12db-449b-8b87-4c820b8c5d3f</td><td>1005115</td><td>2</td><td>1</td><td>0.5</td></tr><tr><td>571712863</td><td>2019</td><td>12</td><td>9ae23bbf-b1a8-4a88-ae35-3005c2858aac</td><td>20000683</td><td>1</td><td>1</td><td>0.0</td></tr><tr><td>515535741</td><td>2019</td><td>11</td><td>60d69a60-0cf7-4bdb-b6f7-bf056da450a1</td><td>1005133</td><td>1</td><td>0</td><td>1.0</td></tr><tr><td>554080544</td><td>2019</td><td>11</td><td>7f088988-ec78-4f60-8653-9c9c1b984571</td><td>1005017</td><td>1</td><td>1</td><td>0.0</td></tr><tr><td>572131463</td><td>2019</td><td>11</td><td>4b2e145b-2540-4b6e-b84b-28c54f1bfb70</td><td>1004833</td><td>1</td><td>1</td><td>0.0</td></tr><tr><td>560971004</td><td>2019</td><td>11</td><td>df9dc246-362d-48fe-9f16-0ad05da5701a</td><td>1004358</td><td>1</td><td>0</td><td>1.0</td></tr><tr><td>513538467</td><td>2020</td><td>4</td><td>64897071-e4b0-4285-af2a-1ff76b8989ac</td><td>1004886</td><td>4</td><td>1</td><td>0.75</td></tr><tr><td>553709996</td><td>2019</td><td>10</td><td>a8b5ee88-bae6-bd1c-1a46-2aa533bc5909</td><td>1004794</td><td>2</td><td>0</td><td>1.0</td></tr><tr><td>518277157</td><td>2019</td><td>10</td><td>1a3be483-85cf-49b6-acbb-0eeef77e4de5</td><td>1004870</td><td>0</td><td>1</td><td>null</td></tr><tr><td>551958141</td><td>2019</td><td>10</td><td>87569cd7-b073-4390-aaa0-6400adab6184</td><td>1004858</td><td>2</td><td>1</td><td>0.5</td></tr><tr><td>517948406</td><td>2019</td><td>10</td><td>ac9c77cf-5636-4ac7-9f65-33ddaf97c3ca</td><td>1004720</td><td>1</td><td>1</td><td>0.0</td></tr><tr><td>527788979</td><td>2019</td><td>10</td><td>5e50f08b-a1fe-4acd-a645-5a69f7f42515</td><td>1004833</td><td>1</td><td>0</td><td>1.0</td></tr><tr><td>555516192</td><td>2019</td><td>10</td><td>16640ff1-4a68-4c05-9063-8200368d4bd9</td><td>1004856</td><td>0</td><td>1</td><td>null</td></tr><tr><td>521568568</td><td>2019</td><td>10</td><td>9072a86a-8068-41d8-a760-d346010aea7e</td><td>1004565</td><td>1</td><td>1</td><td>0.0</td></tr><tr><td>545325533</td><td>2019</td><td>10</td><td>c5112fe5-ea48-4ab4-a8ff-14c6ea02a18d</td><td>1004838</td><td>1</td><td>1</td><td>0.0</td></tr><tr><td>535395133</td><td>2019</td><td>10</td><td>73fd4ee7-9df5-4c09-933a-95c9a192d1e9</td><td>1004870</td><td>2</td><td>1</td><td>0.5</td></tr><tr><td>514560199</td><td>2019</td><td>10</td><td>eb83093d-fd2a-49ad-9461-77f3335daf08</td><td>1004750</td><td>1</td><td>1</td><td>0.0</td></tr><tr><td>543942987</td><td>2019</td><td>10</td><td>6d58674d-ed5d-4ec7-8683-95f5f528d440</td><td>1004833</td><td>1</td><td>0</td><td>1.0</td></tr></tbody></table></div>"
      ]
     },
     "metadata": {
      "application/vnd.databricks.v1+output": {
       "addedWidgets": {},
       "aggData": [],
       "aggError": "",
       "aggOverflow": false,
       "aggSchema": [],
       "aggSeriesLimitReached": false,
       "aggType": "",
       "arguments": {},
       "columnCustomDisplayInfos": {},
       "data": [
        [
         "587850980",
         2019,
         12,
         "c7fa246d-c438-4965-8ab7-3f0004f9104b",
         "1005112",
         1,
         1,
         0.0
        ],
        [
         "519275530",
         2019,
         12,
         "7e620fda-357c-4139-82ca-22104b1793c9",
         "1005169",
         1,
         1,
         0.0
        ],
        [
         "539302311",
         2019,
         12,
         "23d07d81-12db-449b-8b87-4c820b8c5d3f",
         "1005115",
         2,
         1,
         0.5
        ],
        [
         "571712863",
         2019,
         12,
         "9ae23bbf-b1a8-4a88-ae35-3005c2858aac",
         "20000683",
         1,
         1,
         0.0
        ],
        [
         "515535741",
         2019,
         11,
         "60d69a60-0cf7-4bdb-b6f7-bf056da450a1",
         "1005133",
         1,
         0,
         1.0
        ],
        [
         "554080544",
         2019,
         11,
         "7f088988-ec78-4f60-8653-9c9c1b984571",
         "1005017",
         1,
         1,
         0.0
        ],
        [
         "572131463",
         2019,
         11,
         "4b2e145b-2540-4b6e-b84b-28c54f1bfb70",
         "1004833",
         1,
         1,
         0.0
        ],
        [
         "560971004",
         2019,
         11,
         "df9dc246-362d-48fe-9f16-0ad05da5701a",
         "1004358",
         1,
         0,
         1.0
        ],
        [
         "513538467",
         2020,
         4,
         "64897071-e4b0-4285-af2a-1ff76b8989ac",
         "1004886",
         4,
         1,
         0.75
        ],
        [
         "553709996",
         2019,
         10,
         "a8b5ee88-bae6-bd1c-1a46-2aa533bc5909",
         "1004794",
         2,
         0,
         1.0
        ],
        [
         "518277157",
         2019,
         10,
         "1a3be483-85cf-49b6-acbb-0eeef77e4de5",
         "1004870",
         0,
         1,
         null
        ],
        [
         "551958141",
         2019,
         10,
         "87569cd7-b073-4390-aaa0-6400adab6184",
         "1004858",
         2,
         1,
         0.5
        ],
        [
         "517948406",
         2019,
         10,
         "ac9c77cf-5636-4ac7-9f65-33ddaf97c3ca",
         "1004720",
         1,
         1,
         0.0
        ],
        [
         "527788979",
         2019,
         10,
         "5e50f08b-a1fe-4acd-a645-5a69f7f42515",
         "1004833",
         1,
         0,
         1.0
        ],
        [
         "555516192",
         2019,
         10,
         "16640ff1-4a68-4c05-9063-8200368d4bd9",
         "1004856",
         0,
         1,
         null
        ],
        [
         "521568568",
         2019,
         10,
         "9072a86a-8068-41d8-a760-d346010aea7e",
         "1004565",
         1,
         1,
         0.0
        ],
        [
         "545325533",
         2019,
         10,
         "c5112fe5-ea48-4ab4-a8ff-14c6ea02a18d",
         "1004838",
         1,
         1,
         0.0
        ],
        [
         "535395133",
         2019,
         10,
         "73fd4ee7-9df5-4c09-933a-95c9a192d1e9",
         "1004870",
         2,
         1,
         0.5
        ],
        [
         "514560199",
         2019,
         10,
         "eb83093d-fd2a-49ad-9461-77f3335daf08",
         "1004750",
         1,
         1,
         0.0
        ],
        [
         "543942987",
         2019,
         10,
         "6d58674d-ed5d-4ec7-8683-95f5f528d440",
         "1004833",
         1,
         0,
         1.0
        ]
       ],
       "datasetInfos": [],
       "dbfsResultPath": null,
       "isJsonSchema": true,
       "metadata": {},
       "overflow": false,
       "plotOptions": {
        "customPlotOptions": {},
        "displayType": "table",
        "pivotAggregation": null,
        "pivotColumns": null,
        "xColumns": null,
        "yColumns": null
       },
       "removedWidgets": [],
       "schema": [
        {
         "metadata": "{}",
         "name": "user_id",
         "type": "\"string\""
        },
        {
         "metadata": "{}",
         "name": "year",
         "type": "\"long\""
        },
        {
         "metadata": "{}",
         "name": "month",
         "type": "\"long\""
        },
        {
         "metadata": "{}",
         "name": "user_session",
         "type": "\"string\""
        },
        {
         "metadata": "{}",
         "name": "product_id",
         "type": "\"string\""
        },
        {
         "metadata": "{}",
         "name": "cart",
         "type": "\"long\""
        },
        {
         "metadata": "{}",
         "name": "purchase",
         "type": "\"long\""
        },
        {
         "metadata": "{}",
         "name": "cart_abandone_rate",
         "type": "\"double\""
        }
       ],
       "type": "table"
      }
     },
     "output_type": "display_data"
    }
   ],
   "source": [
    "display(abandon_rate_per_session_df.head(20))"
   ]
  },
  {
   "cell_type": "code",
   "execution_count": 0,
   "metadata": {
    "application/vnd.databricks.v1+cell": {
     "cellMetadata": {
      "byteLimit": 2048000,
      "rowLimit": 10000
     },
     "inputWidgets": {},
     "nuid": "108242c2-2c3d-4f05-a9af-7b644ce07c19",
     "showTitle": false,
     "tableResultSettingsMap": {},
     "title": ""
    }
   },
   "outputs": [],
   "source": [
    "avg_cart_abandone_rate_df = abandon_rate_per_session_df.groupBy('user_id', 'year', 'month')\\\n",
    "    .agg(mean(col('cart_abandone_rate')).alias('avg_cart_abandone_rate'))\\\n",
    "    .orderBy('user_id','year','month')"
   ]
  },
  {
   "cell_type": "code",
   "execution_count": 0,
   "metadata": {
    "application/vnd.databricks.v1+cell": {
     "cellMetadata": {
      "byteLimit": 2048000,
      "rowLimit": 10000
     },
     "inputWidgets": {},
     "nuid": "071425a0-cedb-44aa-9a3f-6738b42afe21",
     "showTitle": false,
     "tableResultSettingsMap": {},
     "title": ""
    }
   },
   "outputs": [],
   "source": [
    "convertion_rate_per_user_year_month_df.write.format(\"delta\").mode(\"overwrite\").save(f\"{wasbs_path}features/convertion_rate_per_user_year_month\")"
   ]
  },
  {
   "cell_type": "code",
   "execution_count": 0,
   "metadata": {
    "application/vnd.databricks.v1+cell": {
     "cellMetadata": {
      "byteLimit": 2048000,
      "rowLimit": 10000
     },
     "inputWidgets": {},
     "nuid": "dc7d5704-66f6-4923-9e0a-c5e0682cdf88",
     "showTitle": false,
     "tableResultSettingsMap": {},
     "title": ""
    }
   },
   "outputs": [],
   "source": [
    "avg_purchase_per_user_year_month_df.write.format(\"delta\").mode(\"overwrite\").save(f\"{wasbs_path}features/avg_purchase_per_user_year_month\")"
   ]
  },
  {
   "cell_type": "code",
   "execution_count": 0,
   "metadata": {
    "application/vnd.databricks.v1+cell": {
     "cellMetadata": {
      "byteLimit": 2048000,
      "rowLimit": 10000
     },
     "inputWidgets": {},
     "nuid": "fee9bf9e-c94b-42fc-b168-248f7b625217",
     "showTitle": false,
     "tableResultSettingsMap": {},
     "title": ""
    }
   },
   "outputs": [],
   "source": [
    "avg_cart_abandone_rate_df.write.format(\"delta\").mode(\"overwrite\").save(f\"{wasbs_path}features/avg_cart_abandone_rate\")"
   ]
  },
  {
   "cell_type": "markdown",
   "metadata": {
    "application/vnd.databricks.v1+cell": {
     "cellMetadata": {},
     "inputWidgets": {},
     "nuid": "02a7a23e-3036-48a1-aef4-8cec45ea27b0",
     "showTitle": false,
     "tableResultSettingsMap": {},
     "title": ""
    }
   },
   "source": [
    "## Features Join"
   ]
  },
  {
   "cell_type": "code",
   "execution_count": 0,
   "metadata": {
    "application/vnd.databricks.v1+cell": {
     "cellMetadata": {
      "byteLimit": 2048000,
      "rowLimit": 10000
     },
     "inputWidgets": {},
     "nuid": "d30d1a19-1d73-4a93-8384-8f9e1b2e69ce",
     "showTitle": false,
     "tableResultSettingsMap": {},
     "title": ""
    }
   },
   "outputs": [],
   "source": [
    "#Load al the featues and target data\n",
    "grow_target_df = spark.read.format(\"delta\").load(f\"{wasbs_path}features/grow_target\")\n",
    "sessions_per_user_year_month_df = spark.read.format(\"delta\").load(f\"{wasbs_path}features/sessions_per_user_year_month\")\n",
    "session_duration_df = spark.read.format(\"delta\").load(f\"{wasbs_path}features/session_duration\")\n",
    "avg_cart_abandone_rate_df = spark.read.format(\"delta\").load(f\"{wasbs_path}features/avg_cart_abandone_rate\")\n",
    "avg_purchase_per_user_year_month_df = spark.read.format(\"delta\").load(f\"{wasbs_path}features/avg_purchase_per_user_year_month\")\n",
    "convertion_rate_per_user_year_month_df = spark.read.format(\"delta\").load(f\"{wasbs_path}features/convertion_rate_per_user_year_month\")\n",
    "\n",
    "#The student must to complete loading the rest of dataframes"
   ]
  },
  {
   "cell_type": "markdown",
   "metadata": {
    "application/vnd.databricks.v1+cell": {
     "cellMetadata": {
      "byteLimit": 2048000,
      "rowLimit": 10000
     },
     "inputWidgets": {},
     "nuid": "cc093660-019e-41a3-8814-847f9052ccda",
     "showTitle": false,
     "tableResultSettingsMap": {},
     "title": ""
    }
   },
   "source": [
    "### Joining data frames"
   ]
  },
  {
   "cell_type": "code",
   "execution_count": 0,
   "metadata": {
    "application/vnd.databricks.v1+cell": {
     "cellMetadata": {
      "byteLimit": 2048000,
      "rowLimit": 10000
     },
     "inputWidgets": {},
     "nuid": "4118502a-59db-45d2-b657-8c6d221bac65",
     "showTitle": false,
     "tableResultSettingsMap": {},
     "title": ""
    }
   },
   "outputs": [],
   "source": [
    "def join_dfs(list_df):\n",
    "    joined_df = grow_target_df\n",
    "    for l in list_df:\n",
    "        joined_df = joined_df.join(l, ['user_id','year','month'], how='left')\n",
    "    return joined_df"
   ]
  },
  {
   "cell_type": "code",
   "execution_count": 0,
   "metadata": {
    "application/vnd.databricks.v1+cell": {
     "cellMetadata": {
      "byteLimit": 2048000,
      "rowLimit": 10000
     },
     "inputWidgets": {},
     "nuid": "0bb55bb5-2fad-43a0-bef0-903916441942",
     "showTitle": false,
     "tableResultSettingsMap": {},
     "title": ""
    }
   },
   "outputs": [],
   "source": [
    "# Add all the features dataframes to the list, here are only 2 dataframes\n",
    "features_df = join_dfs([sessions_per_user_year_month_df, session_duration_df, avg_cart_abandone_rate_df, avg_purchase_per_user_year_month_df, convertion_rate_per_user_year_month_df])\n",
    "display(features_df)"
   ]
  },
  {
   "cell_type": "code",
   "execution_count": 0,
   "metadata": {
    "application/vnd.databricks.v1+cell": {
     "cellMetadata": {
      "byteLimit": 2048000,
      "rowLimit": 10000
     },
     "inputWidgets": {},
     "nuid": "98c29a70-9c6a-4789-862f-4a373b53f1fe",
     "showTitle": false,
     "tableResultSettingsMap": {},
     "title": ""
    }
   },
   "outputs": [],
   "source": [
    "features_df.write.format(\"delta\").mode(\"overwrite\").save(f\"{wasbs_path}features/features_df\")"
   ]
  },
  {
   "cell_type": "markdown",
   "metadata": {
    "application/vnd.databricks.v1+cell": {
     "cellMetadata": {},
     "inputWidgets": {},
     "nuid": "e1b9adf8-9950-4a7d-aaf4-750b8f0f7de2",
     "showTitle": false,
     "tableResultSettingsMap": {},
     "title": ""
    }
   },
   "source": [
    "#### Features Dataset\n",
    "\n",
    "The feature dataset, which will be used in Machine Learning, consists of the following columns:\n",
    "\n",
    "| Column Name                   | Data Type  | Description |\n",
    "|-------------------------------|------------|-------------|\n",
    "| **year**                       | integer    | The year of the data. |\n",
    "| **month**                      | integer    | The month of the data. |\n",
    "| **target**                     | integer    | The target variable. Based on month-to-month sales, clients are classified by growth. If the growth is >= 10%, the value is set to 1; otherwise, it is set to 0. |\n",
    "| **session_per_user_year_month** | long       | The total number of sessions per user within the given year and month. |\n",
    "| **session_duration**           | long       | The total duration (in seconds) of all sessions within the given year and month. |\n",
    "| **avg_cart_abandone_rate**  | double     | The average cart abandonment rate for users within the given time period. |\n",
    "| **mean_price**                 | double     | The average price of purchases within the given year and month. |\n",
    "| **conversion_rate**            | double     | The conversion rate, representing the percentage of purchases per user visit per month. |\n"
   ]
  }
 ],
 "metadata": {
  "application/vnd.databricks.v1+notebook": {
   "computePreferences": null,
   "dashboards": [],
   "environmentMetadata": {
    "base_environment": "",
    "client": "1"
   },
   "language": "python",
   "notebookMetadata": {
    "mostRecentlyExecutedCommandWithImplicitDF": {
     "commandId": 3572458732826375,
     "dataframes": [
      "_sqldf"
     ]
    },
    "pythonIndentUnit": 4
   },
   "notebookName": "04 - Feature Eng",
   "widgets": {}
  },
  "language_info": {
   "name": "python"
  }
 },
 "nbformat": 4,
 "nbformat_minor": 0
}