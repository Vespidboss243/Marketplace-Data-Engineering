{
 "cells": [
  {
   "cell_type": "markdown",
   "metadata": {
    "application/vnd.databricks.v1+cell": {
     "cellMetadata": {
      "byteLimit": 2048000,
      "rowLimit": 10000
     },
     "inputWidgets": {},
     "nuid": "e8020acd-0615-4d74-8806-4fd7964fac5e",
     "showTitle": false,
     "tableResultSettingsMap": {},
     "title": ""
    },
    "jupyter": {
     "outputs_hidden": true
    }
   },
   "source": [
    "### **Import Libraries**"
   ]
  },
  {
   "cell_type": "code",
   "execution_count": 0,
   "metadata": {
    "application/vnd.databricks.v1+cell": {
     "cellMetadata": {
      "byteLimit": 2048000,
      "rowLimit": 10000
     },
     "inputWidgets": {},
     "nuid": "d25849ed-fbf1-42dc-8a13-3d7817017aef",
     "showTitle": false,
     "tableResultSettingsMap": {},
     "title": ""
    }
   },
   "outputs": [],
   "source": [
    "from pyspark.sql.functions import *\n",
    "from pyspark.ml.feature import OneHotEncoder, VectorAssembler, MinMaxScaler, Imputer\n",
    "from pyspark.ml import Pipeline\n",
    "import matplotlib.pyplot as plt\n",
    "from pyspark.ml.tuning import ParamGridBuilder, CrossValidator\n",
    "from pyspark.ml.evaluation import BinaryClassificationEvaluator, MulticlassClassificationEvaluator\n",
    "from pyspark.ml.classification import LogisticRegression, GBTClassifier\n",
    "from pyspark.mllib.evaluation import MulticlassMetrics\n",
    "import matplotlib.pyplot as plt\n",
    "import seaborn as sns\n",
    "import shutil\n",
    "import os\n"
   ]
  },
  {
   "cell_type": "markdown",
   "metadata": {
    "application/vnd.databricks.v1+cell": {
     "cellMetadata": {
      "byteLimit": 2048000,
      "rowLimit": 10000
     },
     "inputWidgets": {},
     "nuid": "c4fdd2ea-d4c6-4abd-9447-d8089f2bbc51",
     "showTitle": false,
     "tableResultSettingsMap": {},
     "title": ""
    }
   },
   "source": [
    "### Connect to the storage"
   ]
  },
  {
   "cell_type": "code",
   "execution_count": 0,
   "metadata": {
    "application/vnd.databricks.v1+cell": {
     "cellMetadata": {
      "byteLimit": 2048000,
      "rowLimit": 10000
     },
     "inputWidgets": {},
     "nuid": "4797e6aa-dcfe-4786-b07d-07b287876d94",
     "showTitle": false,
     "tableResultSettingsMap": {},
     "title": ""
    }
   },
   "outputs": [
    {
     "output_type": "stream",
     "name": "stdout",
     "output_type": "stream",
     "text": [
      "Remote blob path: wasbs://marketplace@bgupb202402juanbarriento.blob.core.windows.net/\n"
     ]
    }
   ],
   "source": [
    " # Azure storage access info\n",
    "blob_account_name = \"bgupb202402juanbarriento\"\n",
    "blob_container_name = \"marketplace\"\n",
    "blob_sas_token = 'sv=2022-11-02&ss=bfqt&srt=sco&sp=rwdlacupiytfx&se=2024-12-01T01:56:16Z&st=2024-10-16T17:56:16Z&spr=https&sig=cM7vK4vvrL9YH31ZYI%2BX%2BmssMUTdRieP%2BMGcVNPoagA%3D'\n",
    "\n",
    "# Allow SPARK to read from Blob remotely\n",
    "wasbs_path = f'wasbs://{blob_container_name}@{blob_account_name}.blob.core.windows.net/'\n",
    "spark.conf.set( f'fs.azure.sas.{blob_container_name}.{blob_account_name}.blob.core.windows.net' , blob_sas_token)\n",
    "print('Remote blob path: ' + wasbs_path)"
   ]
  },
  {
   "cell_type": "markdown",
   "metadata": {
    "application/vnd.databricks.v1+cell": {
     "cellMetadata": {
      "byteLimit": 2048000,
      "rowLimit": 10000
     },
     "inputWidgets": {},
     "nuid": "c499a34e-553e-45b8-bdb6-166c2e655853",
     "showTitle": false,
     "tableResultSettingsMap": {},
     "title": ""
    }
   },
   "source": [
    "### Function: get_train_validation_data\n",
    "\n",
    "The function `get_train_validation_data` splits a PySpark DataFrame into three datasets: **training**, **validation**, and **test**.\n"
   ]
  },
  {
   "cell_type": "code",
   "execution_count": 0,
   "metadata": {
    "application/vnd.databricks.v1+cell": {
     "cellMetadata": {
      "byteLimit": 2048000,
      "rowLimit": 10000
     },
     "inputWidgets": {},
     "nuid": "855bfd3a-097e-4110-9242-2ab494fbcf13",
     "showTitle": false,
     "tableResultSettingsMap": {},
     "title": ""
    }
   },
   "outputs": [],
   "source": [
    "#Split function\n",
    "def get_train_validation_data(df, seed_value = 2024, splits=[0.8,0.1,0.1]):\n",
    "    df_splits = df.randomSplit(splits, seed=seed_value)\n",
    "\n",
    "    return df_splits"
   ]
  },
  {
   "cell_type": "markdown",
   "metadata": {
    "application/vnd.databricks.v1+cell": {
     "cellMetadata": {
      "byteLimit": 2048000,
      "rowLimit": 10000
     },
     "inputWidgets": {},
     "nuid": "4d91870c-97f2-406d-bff4-4d494a4503c6",
     "showTitle": false,
     "tableResultSettingsMap": {},
     "title": ""
    }
   },
   "source": [
    "### Read the features file"
   ]
  },
  {
   "cell_type": "code",
   "execution_count": 0,
   "metadata": {
    "application/vnd.databricks.v1+cell": {
     "cellMetadata": {
      "byteLimit": 2048000,
      "rowLimit": 10000
     },
     "inputWidgets": {},
     "nuid": "dd0adde3-9160-4e77-b034-81d876dcb0ab",
     "showTitle": false,
     "tableResultSettingsMap": {},
     "title": ""
    }
   },
   "outputs": [
    {
     "output_type": "display_data",
     "data": {
      "text/html": [
       "<style scoped>\n",
       "  .table-result-container {\n",
       "    max-height: 300px;\n",
       "    overflow: auto;\n",
       "  }\n",
       "  table, th, td {\n",
       "    border: 1px solid black;\n",
       "    border-collapse: collapse;\n",
       "  }\n",
       "  th, td {\n",
       "    padding: 5px;\n",
       "  }\n",
       "  th {\n",
       "    text-align: left;\n",
       "  }\n",
       "</style><div class='table-result-container'><table class='table-result'><thead style='background-color: white'><tr><th>year</th><th>month</th><th>target</th><th>session_per_user_year_month</th><th>session_duration</th><th>avg_cart_abandone_rate</th><th>mean_price</th><th>convertion_rate</th></tr></thead><tbody><tr><td>2020</td><td>2</td><td>0</td><td>1</td><td>276</td><td>0.75</td><td>372.67</td><td>0.16666666666666666</td></tr><tr><td>2020</td><td>4</td><td>0</td><td>3</td><td>1984968</td><td>0.6333333333333333</td><td>209.75</td><td>0.3076923076923077</td></tr><tr><td>2020</td><td>2</td><td>0</td><td>3</td><td>138781</td><td>0.6666666666666666</td><td>1209.27</td><td>0.25</td></tr><tr><td>2020</td><td>4</td><td>1</td><td>2</td><td>724</td><td>0.3333333333333333</td><td>239.415</td><td>0.25</td></tr><tr><td>2020</td><td>4</td><td>0</td><td>4</td><td>1433147</td><td>0.25</td><td>200.64</td><td>0.13333333333333333</td></tr><tr><td>2020</td><td>4</td><td>0</td><td>15</td><td>1271339</td><td>0.5</td><td>46.31</td><td>0.01818181818181818</td></tr><tr><td>2020</td><td>4</td><td>0</td><td>7</td><td>1640083</td><td>0.3333333333333333</td><td>900.9</td><td>0.07692307692307693</td></tr><tr><td>2020</td><td>2</td><td>0</td><td>27</td><td>353354</td><td>0.6666666666666666</td><td>539.5</td><td>0.03333333333333333</td></tr><tr><td>2020</td><td>2</td><td>0</td><td>5</td><td>185419</td><td>-0.06666666666666667</td><td>268.574</td><td>0.8333333333333334</td></tr><tr><td>2020</td><td>4</td><td>0</td><td>3</td><td>261411</td><td>0.5714285714285714</td><td>81.33333333333333</td><td>0.05660377358490566</td></tr><tr><td>2020</td><td>2</td><td>0</td><td>11</td><td>1465251</td><td>0.0</td><td>385.85</td><td>0.029850746268656716</td></tr><tr><td>2020</td><td>2</td><td>0</td><td>1</td><td>122</td><td>0.0</td><td>158.43</td><td>1.0</td></tr><tr><td>2020</td><td>2</td><td>0</td><td>1</td><td>110</td><td>-1.0</td><td>537.95</td><td>0.6666666666666666</td></tr><tr><td>2020</td><td>2</td><td>0</td><td>4</td><td>65651</td><td>0.8333333333333333</td><td>41.16</td><td>0.0625</td></tr><tr><td>2020</td><td>2</td><td>0</td><td>3</td><td>721427</td><td>-1.0</td><td>238.87</td><td>0.3333333333333333</td></tr><tr><td>2020</td><td>3</td><td>0</td><td>10</td><td>402625</td><td>0.0</td><td>92.64</td><td>0.02702702702702703</td></tr><tr><td>2020</td><td>2</td><td>0</td><td>4</td><td>603745</td><td>-0.6666666666666666</td><td>87.26</td><td>0.8823529411764706</td></tr><tr><td>2020</td><td>2</td><td>0</td><td>13</td><td>630067</td><td>-0.4444444444444444</td><td>816.1026666666666</td><td>0.38461538461538464</td></tr><tr><td>2020</td><td>3</td><td>0</td><td>24</td><td>1123375</td><td>0.0</td><td>427.27</td><td>0.037037037037037035</td></tr><tr><td>2020</td><td>2</td><td>0</td><td>17</td><td>1477875</td><td>0.8888888888888888</td><td>50.29</td><td>0.018867924528301886</td></tr><tr><td>2020</td><td>2</td><td>0</td><td>2</td><td>1360077</td><td>0.5</td><td>100.39</td><td>0.3333333333333333</td></tr><tr><td>2020</td><td>3</td><td>0</td><td>3</td><td>474163</td><td>0.0</td><td>112.76</td><td>0.16666666666666666</td></tr><tr><td>2020</td><td>4</td><td>0</td><td>8</td><td>1867396</td><td>0.0</td><td>231.64</td><td>0.06976744186046512</td></tr><tr><td>2020</td><td>2</td><td>0</td><td>3</td><td>4167</td><td>0.0</td><td>393.55</td><td>0.05714285714285714</td></tr><tr><td>2020</td><td>2</td><td>0</td><td>7</td><td>1439005</td><td>0.3333333333333333</td><td>168.58</td><td>0.16666666666666666</td></tr><tr><td>2020</td><td>2</td><td>0</td><td>2</td><td>564154</td><td>-1.0</td><td>869.49</td><td>1.0</td></tr><tr><td>2020</td><td>2</td><td>0</td><td>5</td><td>76464</td><td>0.0</td><td>528.84</td><td>0.18181818181818182</td></tr><tr><td>2020</td><td>4</td><td>0</td><td>5</td><td>1330</td><td>0.5</td><td>12.95</td><td>0.08333333333333333</td></tr><tr><td>2020</td><td>2</td><td>0</td><td>5</td><td>315505</td><td>-1.0</td><td>72.54</td><td>0.1</td></tr><tr><td>2020</td><td>3</td><td>0</td><td>1</td><td>59</td><td>0.0</td><td>378.16</td><td>1.0</td></tr><tr><td>2020</td><td>2</td><td>0</td><td>3</td><td>6369</td><td>-0.09999999999999998</td><td>269.59499999999997</td><td>0.25</td></tr><tr><td>2020</td><td>4</td><td>0</td><td>1</td><td>1325</td><td>0.5</td><td>19.63</td><td>0.09090909090909091</td></tr><tr><td>2020</td><td>3</td><td>0</td><td>4</td><td>2335658</td><td>0.4444444444444444</td><td>177.106</td><td>0.10204081632653061</td></tr><tr><td>2020</td><td>3</td><td>0</td><td>6</td><td>1897648</td><td>0.25</td><td>289.68</td><td>0.03389830508474576</td></tr><tr><td>2020</td><td>2</td><td>0</td><td>9</td><td>952617</td><td>0.5</td><td>27.03</td><td>0.047619047619047616</td></tr><tr><td>2020</td><td>2</td><td>0</td><td>1</td><td>149</td><td>-1.0</td><td>411.51</td><td>2.0</td></tr><tr><td>2020</td><td>2</td><td>0</td><td>1</td><td>1422</td><td>-1.0</td><td>431.16</td><td>0.09090909090909091</td></tr><tr><td>2020</td><td>2</td><td>0</td><td>5</td><td>844387</td><td>0.5</td><td>28.29</td><td>0.07142857142857142</td></tr><tr><td>2020</td><td>2</td><td>0</td><td>3</td><td>1860</td><td>0.6666666666666666</td><td>12.84</td><td>0.07692307692307693</td></tr><tr><td>2020</td><td>2</td><td>0</td><td>1</td><td>131</td><td>0.6666666666666666</td><td>552.91</td><td>1.0</td></tr><tr><td>2020</td><td>4</td><td>0</td><td>2</td><td>1448786</td><td>0.6666666666666666</td><td>143.89</td><td>0.3333333333333333</td></tr><tr><td>2020</td><td>4</td><td>0</td><td>3</td><td>1043980</td><td>0.0</td><td>56.09</td><td>0.018867924528301886</td></tr><tr><td>2020</td><td>2</td><td>0</td><td>4</td><td>45791</td><td>-1.0</td><td>203.5</td><td>0.1</td></tr><tr><td>2020</td><td>2</td><td>0</td><td>4</td><td>1321307</td><td>0.25</td><td>146.3525</td><td>0.26666666666666666</td></tr><tr><td>2020</td><td>2</td><td>0</td><td>1</td><td>163</td><td>-1.0</td><td>411.51</td><td>1.0</td></tr><tr><td>2020</td><td>4</td><td>0</td><td>4</td><td>413517</td><td>0.0</td><td>30.865000000000002</td><td>0.06666666666666667</td></tr><tr><td>2020</td><td>2</td><td>0</td><td>1</td><td>78</td><td>-1.0</td><td>463.31</td><td>1.0</td></tr><tr><td>2020</td><td>2</td><td>0</td><td>1</td><td>447</td><td>-1.0</td><td>1171.2</td><td>1.0</td></tr><tr><td>2020</td><td>2</td><td>0</td><td>5</td><td>30255</td><td>-0.45833333333333337</td><td>120.08142857142857</td><td>0.6666666666666666</td></tr><tr><td>2020</td><td>2</td><td>0</td><td>4</td><td>589982</td><td>0.15833333333333333</td><td>127.22818181818184</td><td>0.4583333333333333</td></tr></tbody></table></div>"
      ]
     },
     "metadata": {
      "application/vnd.databricks.v1+output": {
       "addedWidgets": {},
       "aggData": [],
       "aggError": "",
       "aggOverflow": false,
       "aggSchema": [],
       "aggSeriesLimitReached": false,
       "aggType": "",
       "arguments": {},
       "columnCustomDisplayInfos": {},
       "data": [
        [
         2020,
         2,
         0,
         1,
         276,
         0.75,
         372.67,
         0.16666666666666666
        ],
        [
         2020,
         4,
         0,
         3,
         1984968,
         0.6333333333333333,
         209.75,
         0.3076923076923077
        ],
        [
         2020,
         2,
         0,
         3,
         138781,
         0.6666666666666666,
         1209.27,
         0.25
        ],
        [
         2020,
         4,
         1,
         2,
         724,
         0.3333333333333333,
         239.415,
         0.25
        ],
        [
         2020,
         4,
         0,
         4,
         1433147,
         0.25,
         200.64,
         0.13333333333333333
        ],
        [
         2020,
         4,
         0,
         15,
         1271339,
         0.5,
         46.31,
         0.01818181818181818
        ],
        [
         2020,
         4,
         0,
         7,
         1640083,
         0.3333333333333333,
         900.9,
         0.07692307692307693
        ],
        [
         2020,
         2,
         0,
         27,
         353354,
         0.6666666666666666,
         539.5,
         0.03333333333333333
        ],
        [
         2020,
         2,
         0,
         5,
         185419,
         -0.06666666666666667,
         268.574,
         0.8333333333333334
        ],
        [
         2020,
         4,
         0,
         3,
         261411,
         0.5714285714285714,
         81.33333333333333,
         0.05660377358490566
        ],
        [
         2020,
         2,
         0,
         11,
         1465251,
         0.0,
         385.85,
         0.029850746268656716
        ],
        [
         2020,
         2,
         0,
         1,
         122,
         0.0,
         158.43,
         1.0
        ],
        [
         2020,
         2,
         0,
         1,
         110,
         -1.0,
         537.95,
         0.6666666666666666
        ],
        [
         2020,
         2,
         0,
         4,
         65651,
         0.8333333333333333,
         41.16,
         0.0625
        ],
        [
         2020,
         2,
         0,
         3,
         721427,
         -1.0,
         238.87,
         0.3333333333333333
        ],
        [
         2020,
         3,
         0,
         10,
         402625,
         0.0,
         92.64,
         0.02702702702702703
        ],
        [
         2020,
         2,
         0,
         4,
         603745,
         -0.6666666666666666,
         87.26,
         0.8823529411764706
        ],
        [
         2020,
         2,
         0,
         13,
         630067,
         -0.4444444444444444,
         816.1026666666666,
         0.38461538461538464
        ],
        [
         2020,
         3,
         0,
         24,
         1123375,
         0.0,
         427.27,
         0.037037037037037035
        ],
        [
         2020,
         2,
         0,
         17,
         1477875,
         0.8888888888888888,
         50.29,
         0.018867924528301886
        ],
        [
         2020,
         2,
         0,
         2,
         1360077,
         0.5,
         100.39,
         0.3333333333333333
        ],
        [
         2020,
         3,
         0,
         3,
         474163,
         0.0,
         112.76,
         0.16666666666666666
        ],
        [
         2020,
         4,
         0,
         8,
         1867396,
         0.0,
         231.64,
         0.06976744186046512
        ],
        [
         2020,
         2,
         0,
         3,
         4167,
         0.0,
         393.55,
         0.05714285714285714
        ],
        [
         2020,
         2,
         0,
         7,
         1439005,
         0.3333333333333333,
         168.58,
         0.16666666666666666
        ],
        [
         2020,
         2,
         0,
         2,
         564154,
         -1.0,
         869.49,
         1.0
        ],
        [
         2020,
         2,
         0,
         5,
         76464,
         0.0,
         528.84,
         0.18181818181818182
        ],
        [
         2020,
         4,
         0,
         5,
         1330,
         0.5,
         12.95,
         0.08333333333333333
        ],
        [
         2020,
         2,
         0,
         5,
         315505,
         -1.0,
         72.54,
         0.1
        ],
        [
         2020,
         3,
         0,
         1,
         59,
         0.0,
         378.16,
         1.0
        ],
        [
         2020,
         2,
         0,
         3,
         6369,
         -0.09999999999999998,
         269.59499999999997,
         0.25
        ],
        [
         2020,
         4,
         0,
         1,
         1325,
         0.5,
         19.63,
         0.09090909090909091
        ],
        [
         2020,
         3,
         0,
         4,
         2335658,
         0.4444444444444444,
         177.106,
         0.10204081632653061
        ],
        [
         2020,
         3,
         0,
         6,
         1897648,
         0.25,
         289.68,
         0.03389830508474576
        ],
        [
         2020,
         2,
         0,
         9,
         952617,
         0.5,
         27.03,
         0.047619047619047616
        ],
        [
         2020,
         2,
         0,
         1,
         149,
         -1.0,
         411.51,
         2.0
        ],
        [
         2020,
         2,
         0,
         1,
         1422,
         -1.0,
         431.16,
         0.09090909090909091
        ],
        [
         2020,
         2,
         0,
         5,
         844387,
         0.5,
         28.29,
         0.07142857142857142
        ],
        [
         2020,
         2,
         0,
         3,
         1860,
         0.6666666666666666,
         12.84,
         0.07692307692307693
        ],
        [
         2020,
         2,
         0,
         1,
         131,
         0.6666666666666666,
         552.91,
         1.0
        ],
        [
         2020,
         4,
         0,
         2,
         1448786,
         0.6666666666666666,
         143.89,
         0.3333333333333333
        ],
        [
         2020,
         4,
         0,
         3,
         1043980,
         0.0,
         56.09,
         0.018867924528301886
        ],
        [
         2020,
         2,
         0,
         4,
         45791,
         -1.0,
         203.5,
         0.1
        ],
        [
         2020,
         2,
         0,
         4,
         1321307,
         0.25,
         146.3525,
         0.26666666666666666
        ],
        [
         2020,
         2,
         0,
         1,
         163,
         -1.0,
         411.51,
         1.0
        ],
        [
         2020,
         4,
         0,
         4,
         413517,
         0.0,
         30.865000000000002,
         0.06666666666666667
        ],
        [
         2020,
         2,
         0,
         1,
         78,
         -1.0,
         463.31,
         1.0
        ],
        [
         2020,
         2,
         0,
         1,
         447,
         -1.0,
         1171.2,
         1.0
        ],
        [
         2020,
         2,
         0,
         5,
         30255,
         -0.45833333333333337,
         120.08142857142857,
         0.6666666666666666
        ],
        [
         2020,
         2,
         0,
         4,
         589982,
         0.15833333333333333,
         127.22818181818184,
         0.4583333333333333
        ]
       ],
       "datasetInfos": [],
       "dbfsResultPath": null,
       "isJsonSchema": true,
       "metadata": {},
       "overflow": false,
       "plotOptions": {
        "customPlotOptions": {},
        "displayType": "table",
        "pivotAggregation": null,
        "pivotColumns": null,
        "xColumns": null,
        "yColumns": null
       },
       "removedWidgets": [],
       "schema": [
        {
         "metadata": "{}",
         "name": "year",
         "type": "\"long\""
        },
        {
         "metadata": "{}",
         "name": "month",
         "type": "\"long\""
        },
        {
         "metadata": "{}",
         "name": "target",
         "type": "\"long\""
        },
        {
         "metadata": "{}",
         "name": "session_per_user_year_month",
         "type": "\"long\""
        },
        {
         "metadata": "{}",
         "name": "session_duration",
         "type": "\"long\""
        },
        {
         "metadata": "{}",
         "name": "avg_cart_abandone_rate",
         "type": "\"double\""
        },
        {
         "metadata": "{}",
         "name": "mean_price",
         "type": "\"double\""
        },
        {
         "metadata": "{}",
         "name": "convertion_rate",
         "type": "\"double\""
        }
       ],
       "type": "table"
      }
     },
     "output_type": "display_data"
    }
   ],
   "source": [
    "#Read Dataframe from features layer\n",
    "features_df = spark.read.format(\"delta\").load(f\"{wasbs_path}features/features_df\").drop(\"user_id\")\n",
    "\n",
    "display(features_df.head(50))"
   ]
  },
  {
   "cell_type": "code",
   "execution_count": 0,
   "metadata": {
    "application/vnd.databricks.v1+cell": {
     "cellMetadata": {
      "byteLimit": 2048000,
      "rowLimit": 10000
     },
     "inputWidgets": {},
     "nuid": "0b72c9dd-58de-4777-bc19-a73df14387e3",
     "showTitle": false,
     "tableResultSettingsMap": {},
     "title": ""
    }
   },
   "outputs": [
    {
     "output_type": "stream",
     "name": "stdout",
     "output_type": "stream",
     "text": [
      "+--------------------+---------------------+----------------------+-------------------------------------------+--------------------------------+--------------------------------------+--------------------------+-------------------------------+\n|year_null_percentage|month_null_percentage|target_null_percentage|session_per_user_year_month_null_percentage|session_duration_null_percentage|avg_cart_abandone_rate_null_percentage|mean_price_null_percentage|convertion_rate_null_percentage|\n+--------------------+---------------------+----------------------+-------------------------------------------+--------------------------------+--------------------------------------+--------------------------+-------------------------------+\n|                 0.0|                  0.0|                   0.0|                                        0.0|                             0.0|                     5.545206817574712|                       0.0|             0.3846463892871199|\n+--------------------+---------------------+----------------------+-------------------------------------------+--------------------------------+--------------------------------------+--------------------------+-------------------------------+\n\n"
     ]
    }
   ],
   "source": [
    "# Calculate the percentage of null values in each column to see if imputation is possible\n",
    "total_rows = features_df.count()\n",
    "\n",
    "null_percentages = features_df.select([\n",
    "    ((count(when(col(c).isNull(), c)) / total_rows) * 100\n",
    "     ).alias(f'{c}_null_percentage')\n",
    "    for c in features_df.columns\n",
    "])\n",
    "\n",
    "null_percentages.show()"
   ]
  },
  {
   "cell_type": "markdown",
   "metadata": {
    "application/vnd.databricks.v1+cell": {
     "cellMetadata": {},
     "inputWidgets": {},
     "nuid": "634c5bfb-e948-4e78-a3ec-f3c6638a64f1",
     "showTitle": false,
     "tableResultSettingsMap": {},
     "title": ""
    }
   },
   "source": [
    "The percentage of nulls is not above 10%, so it is possible to impute the missing values "
   ]
  },
  {
   "cell_type": "code",
   "execution_count": 0,
   "metadata": {
    "application/vnd.databricks.v1+cell": {
     "cellMetadata": {
      "byteLimit": 2048000,
      "rowLimit": 10000
     },
     "inputWidgets": {},
     "nuid": "dc860bb4-18b4-4fbd-b28e-f37e1436cefe",
     "showTitle": false,
     "tableResultSettingsMap": {},
     "title": ""
    }
   },
   "outputs": [
    {
     "output_type": "display_data",
     "data": {
      "text/html": [
       "<style scoped>\n",
       "  .table-result-container {\n",
       "    max-height: 300px;\n",
       "    overflow: auto;\n",
       "  }\n",
       "  table, th, td {\n",
       "    border: 1px solid black;\n",
       "    border-collapse: collapse;\n",
       "  }\n",
       "  th, td {\n",
       "    padding: 5px;\n",
       "  }\n",
       "  th {\n",
       "    text-align: left;\n",
       "  }\n",
       "</style><div class='table-result-container'><table class='table-result'><thead style='background-color: white'><tr><th>summary</th><th>year</th><th>month</th><th>target</th><th>session_per_user_year_month</th><th>session_duration</th><th>avg_cart_abandone_rate</th><th>mean_price</th><th>convertion_rate</th></tr></thead><tbody><tr><td>count</td><td>2530636</td><td>2530636</td><td>2530636</td><td>2530636</td><td>2530636</td><td>2390307</td><td>2530636</td><td>2520902</td></tr><tr><td>mean</td><td>2019.589545473944</td><td>6.129528703456364</td><td>0.12741342492559182</td><td>6.746052770923989</td><td>843492.1126720713</td><td>0.33430359630867834</td><td>308.54116379957253</td><td>0.20103826366418803</td></tr><tr><td>stddev</td><td>0.4919163584564385</td><td>4.32670786183029</td><td>0.33343558299566783</td><td>16.304288814472443</td><td>819985.7042185947</td><td>0.362526655923931</td><td>317.7891405053492</td><td>0.23894095265762533</td></tr><tr><td>min</td><td>2019</td><td>1</td><td>0</td><td>1</td><td>0</td><td>-11.0</td><td>0.42</td><td>8.869179600886918E-5</td></tr><tr><td>max</td><td>2020</td><td>12</td><td>1</td><td>9002</td><td>2676683</td><td>1.0</td><td>2574.07</td><td>28.0</td></tr></tbody></table></div>"
      ]
     },
     "metadata": {
      "application/vnd.databricks.v1+output": {
       "addedWidgets": {},
       "aggData": [],
       "aggError": "",
       "aggOverflow": false,
       "aggSchema": [],
       "aggSeriesLimitReached": false,
       "aggType": "",
       "arguments": {},
       "columnCustomDisplayInfos": {},
       "data": [
        [
         "count",
         "2530636",
         "2530636",
         "2530636",
         "2530636",
         "2530636",
         "2390307",
         "2530636",
         "2520902"
        ],
        [
         "mean",
         "2019.589545473944",
         "6.129528703456364",
         "0.12741342492559182",
         "6.746052770923989",
         "843492.1126720713",
         "0.33430359630867834",
         "308.54116379957253",
         "0.20103826366418803"
        ],
        [
         "stddev",
         "0.4919163584564385",
         "4.32670786183029",
         "0.33343558299566783",
         "16.304288814472443",
         "819985.7042185947",
         "0.362526655923931",
         "317.7891405053492",
         "0.23894095265762533"
        ],
        [
         "min",
         "2019",
         "1",
         "0",
         "1",
         "0",
         "-11.0",
         "0.42",
         "8.869179600886918E-5"
        ],
        [
         "max",
         "2020",
         "12",
         "1",
         "9002",
         "2676683",
         "1.0",
         "2574.07",
         "28.0"
        ]
       ],
       "datasetInfos": [],
       "dbfsResultPath": null,
       "isJsonSchema": true,
       "metadata": {},
       "overflow": false,
       "plotOptions": {
        "customPlotOptions": {},
        "displayType": "table",
        "pivotAggregation": null,
        "pivotColumns": null,
        "xColumns": null,
        "yColumns": null
       },
       "removedWidgets": [],
       "schema": [
        {
         "metadata": "{}",
         "name": "summary",
         "type": "\"string\""
        },
        {
         "metadata": "{}",
         "name": "year",
         "type": "\"string\""
        },
        {
         "metadata": "{}",
         "name": "month",
         "type": "\"string\""
        },
        {
         "metadata": "{}",
         "name": "target",
         "type": "\"string\""
        },
        {
         "metadata": "{}",
         "name": "session_per_user_year_month",
         "type": "\"string\""
        },
        {
         "metadata": "{}",
         "name": "session_duration",
         "type": "\"string\""
        },
        {
         "metadata": "{}",
         "name": "avg_cart_abandone_rate",
         "type": "\"string\""
        },
        {
         "metadata": "{}",
         "name": "mean_price",
         "type": "\"string\""
        },
        {
         "metadata": "{}",
         "name": "convertion_rate",
         "type": "\"string\""
        }
       ],
       "type": "table"
      }
     },
     "output_type": "display_data"
    }
   ],
   "source": [
    "# To see the mean and the stddev of the numerical columns to see if standardization is required\n",
    "display(features_df.describe())"
   ]
  },
  {
   "cell_type": "markdown",
   "metadata": {
    "application/vnd.databricks.v1+cell": {
     "cellMetadata": {},
     "inputWidgets": {},
     "nuid": "23f1eb12-f7b5-4971-9b8e-7093759bbc91",
     "showTitle": false,
     "tableResultSettingsMap": {},
     "title": ""
    }
   },
   "source": [
    "Because some columns have a large standard deviation, I believe standardization would be appropriate"
   ]
  },
  {
   "cell_type": "markdown",
   "metadata": {
    "application/vnd.databricks.v1+cell": {
     "cellMetadata": {
      "byteLimit": 2048000,
      "rowLimit": 10000
     },
     "inputWidgets": {},
     "nuid": "a435f075-ad21-4a4b-8ab0-9d2973ce184a",
     "showTitle": false,
     "tableResultSettingsMap": {},
     "title": ""
    }
   },
   "source": [
    "###Data Preparation"
   ]
  },
  {
   "cell_type": "code",
   "execution_count": 0,
   "metadata": {
    "application/vnd.databricks.v1+cell": {
     "cellMetadata": {
      "byteLimit": 2048000,
      "rowLimit": 10000
     },
     "inputWidgets": {},
     "nuid": "40fe0a6a-580f-4eba-a4c2-1ceed795f9e7",
     "showTitle": false,
     "tableResultSettingsMap": {},
     "title": ""
    }
   },
   "outputs": [],
   "source": [
    "#Specify numerical and the categorical variables for the encoder\n",
    "continuous_cols = [\n",
    "  'session_per_user_year_month', 'session_duration', \n",
    "  'avg_cart_abandone_rate','mean_price','convertion_rate'\n",
    "  ]\n",
    "\n",
    "ohe_numeric_cols  = ['year', 'month']"
   ]
  },
  {
   "cell_type": "code",
   "execution_count": 0,
   "metadata": {
    "application/vnd.databricks.v1+cell": {
     "cellMetadata": {
      "byteLimit": 2048000,
      "rowLimit": 10000
     },
     "inputWidgets": {},
     "nuid": "18f766d4-de48-4e71-b481-ff41511032c4",
     "showTitle": false,
     "tableResultSettingsMap": {},
     "title": ""
    }
   },
   "outputs": [],
   "source": [
    "# inputs and outputs for the encoder and the imputer\n",
    "ohe_input_cols = ohe_numeric_cols\n",
    "ohe_output_cols = [f\"{col_name}_ohe\" for col_name in ohe_numeric_cols]\n",
    "\n",
    "continuous_input_cols = continuous_cols\n",
    "continuous_output_cols = [f\"{col}_imputed\" for col in continuous_cols]\n",
    "continuous_output_scaler_cols = [f\"{col}_scaled\" for col in continuous_cols]\n"
   ]
  },
  {
   "cell_type": "code",
   "execution_count": 0,
   "metadata": {
    "application/vnd.databricks.v1+cell": {
     "cellMetadata": {
      "byteLimit": 2048000,
      "rowLimit": 10000
     },
     "inputWidgets": {},
     "nuid": "f68f97e0-1ed5-4ca0-975e-d6e1d1dcd9fe",
     "showTitle": false,
     "tableResultSettingsMap": {},
     "title": ""
    }
   },
   "outputs": [],
   "source": [
    "# Create the encoder and the imputer\n",
    "ohe = OneHotEncoder(inputCols=ohe_input_cols,\n",
    "                     outputCols=ohe_output_cols)\n",
    "                     \n",
    "num_imputer = Imputer(inputCols=continuous_input_cols, \n",
    "                      outputCols=continuous_output_cols)\n"
   ]
  },
  {
   "cell_type": "code",
   "execution_count": 0,
   "metadata": {
    "application/vnd.databricks.v1+cell": {
     "cellMetadata": {
      "byteLimit": 2048000,
      "rowLimit": 10000
     },
     "inputWidgets": {},
     "nuid": "544bd953-106e-4aaf-ace1-324808cae821",
     "showTitle": false,
     "tableResultSettingsMap": {},
     "title": ""
    }
   },
   "outputs": [],
   "source": [
    "# vectorizer for the numeric columns\n",
    "vectorizer_num = VectorAssembler(inputCols=continuous_output_cols, \n",
    "                                 outputCol=\"num_features\",handleInvalid=\"keep\")\n",
    "                                 \n",
    "scaler = MinMaxScaler(inputCol=\"num_features\", \n",
    "                      outputCol=\"scaled_features\")"
   ]
  },
  {
   "cell_type": "code",
   "execution_count": 0,
   "metadata": {
    "application/vnd.databricks.v1+cell": {
     "cellMetadata": {
      "byteLimit": 2048000,
      "rowLimit": 10000
     },
     "inputWidgets": {},
     "nuid": "79f89ef0-527f-4b89-9f4d-0b349d2f3974",
     "showTitle": false,
     "tableResultSettingsMap": {},
     "title": ""
    }
   },
   "outputs": [
    {
     "output_type": "execute_result",
     "data": {
      "text/plain": [
       "['session_per_user_year_month_imputed',\n",
       " 'session_duration_imputed',\n",
       " 'avg_cart_abandone_rate_imputed',\n",
       " 'mean_price_imputed',\n",
       " 'convertion_rate_imputed',\n",
       " 'year_ohe',\n",
       " 'month_ohe']"
      ]
     },
     "execution_count": 15,
     "metadata": {},
     "output_type": "execute_result"
    }
   ],
   "source": [
    "# unified the numeric and categorical columns\n",
    "feature_cols = continuous_output_cols + ohe_output_cols\n",
    "feature_cols"
   ]
  },
  {
   "cell_type": "code",
   "execution_count": 0,
   "metadata": {
    "application/vnd.databricks.v1+cell": {
     "cellMetadata": {
      "byteLimit": 2048000,
      "rowLimit": 10000
     },
     "inputWidgets": {},
     "nuid": "91ee2d8c-2cf3-4dd6-a2f2-38796499aa53",
     "showTitle": false,
     "tableResultSettingsMap": {},
     "title": ""
    }
   },
   "outputs": [],
   "source": [
    "#vectorizer for all the data\n",
    "final_vectorizer = VectorAssembler(inputCols=[\"scaled_features\"] + ohe_output_cols, outputCol=\"features\")"
   ]
  },
  {
   "cell_type": "markdown",
   "metadata": {
    "application/vnd.databricks.v1+cell": {
     "cellMetadata": {
      "byteLimit": 2048000,
      "rowLimit": 10000
     },
     "inputWidgets": {},
     "nuid": "e2359a13-175d-4522-abbf-1d90e8afbc19",
     "showTitle": false,
     "tableResultSettingsMap": {},
     "title": ""
    }
   },
   "source": [
    "#### Data Splits"
   ]
  },
  {
   "cell_type": "code",
   "execution_count": 0,
   "metadata": {
    "application/vnd.databricks.v1+cell": {
     "cellMetadata": {
      "byteLimit": 2048000,
      "rowLimit": 10000
     },
     "inputWidgets": {},
     "nuid": "4238f679-5e8d-49ac-b82c-45a6228f09ec",
     "showTitle": false,
     "tableResultSettingsMap": {},
     "title": ""
    }
   },
   "outputs": [],
   "source": [
    "#Divide the dataset in 3 parts: train, test, validation\n",
    "\n",
    "train_df, test_df, validation_df = get_train_validation_data(features_df)"
   ]
  },
  {
   "cell_type": "code",
   "execution_count": 0,
   "metadata": {
    "application/vnd.databricks.v1+cell": {
     "cellMetadata": {
      "byteLimit": 2048000,
      "rowLimit": 10000
     },
     "inputWidgets": {},
     "nuid": "615fb60e-ce52-4fa9-9e78-8fa96c3ffca1",
     "showTitle": false,
     "tableResultSettingsMap": {},
     "title": ""
    }
   },
   "outputs": [
    {
     "output_type": "stream",
     "name": "stdout",
     "output_type": "stream",
     "text": [
      "2025297\n252425\n252914\n"
     ]
    }
   ],
   "source": [
    "#Check the size of the datasets\n",
    "\n",
    "print(train_df.count())\n",
    "print(test_df.count())\n",
    "print(validation_df.count())"
   ]
  },
  {
   "cell_type": "code",
   "execution_count": 0,
   "metadata": {
    "application/vnd.databricks.v1+cell": {
     "cellMetadata": {
      "byteLimit": 2048000,
      "rowLimit": 10000
     },
     "inputWidgets": {},
     "nuid": "b7a16361-5deb-402b-8f41-c79322331d25",
     "showTitle": false,
     "tableResultSettingsMap": {},
     "title": ""
    }
   },
   "outputs": [],
   "source": [
    "display(train_df)"
   ]
  },
  {
   "cell_type": "code",
   "execution_count": 0,
   "metadata": {
    "application/vnd.databricks.v1+cell": {
     "cellMetadata": {
      "byteLimit": 2048000,
      "rowLimit": 10000
     },
     "inputWidgets": {},
     "nuid": "0e192050-b07c-4f2f-bd4e-bf39a429eac9",
     "showTitle": false,
     "tableResultSettingsMap": {},
     "title": ""
    }
   },
   "outputs": [
    {
     "output_type": "stream",
     "name": "stdout",
     "output_type": "stream",
     "text": [
      "root\n |-- year: integer (nullable = true)\n |-- month: integer (nullable = true)\n |-- target: integer (nullable = true)\n |-- session_per_user_year_month: long (nullable = true)\n |-- session_duration: long (nullable = true)\n |-- avg_cart_abandone_rate: double (nullable = true)\n |-- mean_price: double (nullable = true)\n |-- convertion_rate: double (nullable = true)\n\n"
     ]
    }
   ],
   "source": [
    "train_df.printSchema()"
   ]
  },
  {
   "cell_type": "markdown",
   "metadata": {
    "application/vnd.databricks.v1+cell": {
     "cellMetadata": {
      "byteLimit": 2048000,
      "rowLimit": 10000
     },
     "inputWidgets": {},
     "nuid": "39cde8d5-ee5b-4b10-a029-2df8a4481fa1",
     "showTitle": false,
     "tableResultSettingsMap": {},
     "title": ""
    }
   },
   "source": [
    "##Pipeline and Transformation"
   ]
  },
  {
   "cell_type": "code",
   "execution_count": 0,
   "metadata": {
    "application/vnd.databricks.v1+cell": {
     "cellMetadata": {
      "byteLimit": 2048000,
      "rowLimit": 10000
     },
     "inputWidgets": {},
     "nuid": "e7e564ca-a30c-4bcd-8fd8-e22dc641c51c",
     "showTitle": false,
     "tableResultSettingsMap": {},
     "title": ""
    }
   },
   "outputs": [],
   "source": [
    "# Create the pipeline and fit the model on the training data\n",
    "feature_pipelene = Pipeline(stages=[ohe, num_imputer, vectorizer_num,scaler,final_vectorizer])\n",
    "\n",
    "feature_model = feature_pipelene.fit(train_df)\n",
    "train_transform_df = feature_model.transform(train_df)"
   ]
  },
  {
   "cell_type": "code",
   "execution_count": 0,
   "metadata": {
    "application/vnd.databricks.v1+cell": {
     "cellMetadata": {
      "byteLimit": 2048000,
      "rowLimit": 10000
     },
     "inputWidgets": {},
     "nuid": "e769a0f0-1919-4449-a1b0-f03e4a7cbc5e",
     "showTitle": false,
     "tableResultSettingsMap": {},
     "title": ""
    }
   },
   "outputs": [],
   "source": [
    "display(train_transform_df)"
   ]
  },
  {
   "cell_type": "code",
   "execution_count": 0,
   "metadata": {
    "application/vnd.databricks.v1+cell": {
     "cellMetadata": {
      "byteLimit": 2048000,
      "rowLimit": 10000
     },
     "inputWidgets": {},
     "nuid": "e7aeaaf6-3b99-4904-828b-7d2cb0797732",
     "showTitle": false,
     "tableResultSettingsMap": {},
     "title": ""
    }
   },
   "outputs": [],
   "source": [
    "# Put the dataframe on Cache for faster training\n",
    "train_transform_df = train_transform_df.cache()"
   ]
  },
  {
   "cell_type": "code",
   "execution_count": 0,
   "metadata": {
    "application/vnd.databricks.v1+cell": {
     "cellMetadata": {
      "byteLimit": 2048000,
      "rowLimit": 10000
     },
     "inputWidgets": {},
     "nuid": "e835912c-948b-44d0-be2c-ebd94ebc4671",
     "showTitle": false,
     "tableResultSettingsMap": {},
     "title": ""
    }
   },
   "outputs": [],
   "source": [
    "#Some precautions because of some problems with the training of the models\n",
    "train_transform_df = train_transform_df.withColumn(\"target\", col(\"target\").cast(\"double\"))"
   ]
  },
  {
   "cell_type": "code",
   "execution_count": 0,
   "metadata": {
    "application/vnd.databricks.v1+cell": {
     "cellMetadata": {
      "byteLimit": 2048000,
      "rowLimit": 10000
     },
     "inputWidgets": {},
     "nuid": "af53cab2-c977-45a4-a8e7-3dd7c9ee332e",
     "showTitle": false,
     "tableResultSettingsMap": {},
     "title": ""
    }
   },
   "outputs": [
    {
     "output_type": "stream",
     "name": "stdout",
     "output_type": "stream",
     "text": [
      "+------+\n|target|\n+------+\n|   0.0|\n|   1.0|\n+------+\n\n"
     ]
    }
   ],
   "source": [
    "train_transform_df.select(\"target\").distinct().show()"
   ]
  },
  {
   "cell_type": "markdown",
   "metadata": {
    "application/vnd.databricks.v1+cell": {
     "cellMetadata": {
      "byteLimit": 2048000,
      "rowLimit": 10000
     },
     "inputWidgets": {},
     "nuid": "f858f3ea-da68-4ac1-8ef1-c593a01771d0",
     "showTitle": false,
     "tableResultSettingsMap": {},
     "title": ""
    }
   },
   "source": [
    "# Modeling"
   ]
  },
  {
   "cell_type": "markdown",
   "metadata": {
    "application/vnd.databricks.v1+cell": {
     "cellMetadata": {
      "byteLimit": 2048000,
      "rowLimit": 10000
     },
     "inputWidgets": {},
     "nuid": "ac75caab-ab0e-48bb-a744-05c6a6fb1d09",
     "showTitle": false,
     "tableResultSettingsMap": {},
     "title": ""
    }
   },
   "source": [
    "###Support Vector Machine"
   ]
  },
  {
   "cell_type": "code",
   "execution_count": 0,
   "metadata": {
    "application/vnd.databricks.v1+cell": {
     "cellMetadata": {
      "byteLimit": 2048000,
      "rowLimit": 10000
     },
     "inputWidgets": {},
     "nuid": "666e3552-4ad0-47cb-9cb7-1370415ba724",
     "showTitle": false,
     "tableResultSettingsMap": {},
     "title": ""
    }
   },
   "outputs": [],
   "source": [
    "from pyspark.ml.classification import LinearSVC\n",
    "\n",
    "# Define the model of Support Vector Machine\n",
    "svm = LinearSVC(labelCol=\"target\", featuresCol=\"features\", maxIter=10)\n",
    "\n",
    "# Train\n",
    "svm_model = svm.fit(train_transform_df)\n",
    "\n",
    "# Predict over the train dataset\n",
    "predictionssvc = svm_model.transform(train_transform_df)"
   ]
  },
  {
   "cell_type": "markdown",
   "metadata": {
    "application/vnd.databricks.v1+cell": {
     "cellMetadata": {},
     "inputWidgets": {},
     "nuid": "ea71a88d-e517-47f3-a1c0-4c9ee5e50ac7",
     "showTitle": false,
     "tableResultSettingsMap": {},
     "title": ""
    }
   },
   "source": [
    "####Evaluation"
   ]
  },
  {
   "cell_type": "code",
   "execution_count": 0,
   "metadata": {
    "application/vnd.databricks.v1+cell": {
     "cellMetadata": {
      "byteLimit": 2048000,
      "rowLimit": 10000
     },
     "inputWidgets": {},
     "nuid": "05e55916-971f-4052-a378-c10928ced82d",
     "showTitle": false,
     "tableResultSettingsMap": {},
     "title": ""
    }
   },
   "outputs": [],
   "source": [
    "svm_full_model= feature_model.copy()"
   ]
  },
  {
   "cell_type": "code",
   "execution_count": 0,
   "metadata": {
    "application/vnd.databricks.v1+cell": {
     "cellMetadata": {
      "byteLimit": 2048000,
      "rowLimit": 10000
     },
     "inputWidgets": {},
     "nuid": "8eb5e2df-399d-46b9-8c21-d2b0529e2e12",
     "showTitle": false,
     "tableResultSettingsMap": {},
     "title": ""
    }
   },
   "outputs": [],
   "source": [
    "svm_full_model.stages.append(svm_model)"
   ]
  },
  {
   "cell_type": "code",
   "execution_count": 0,
   "metadata": {
    "application/vnd.databricks.v1+cell": {
     "cellMetadata": {
      "byteLimit": 2048000,
      "rowLimit": 10000
     },
     "inputWidgets": {},
     "nuid": "d5ae33e3-af7c-4401-be6f-448b6153f41c",
     "showTitle": false,
     "tableResultSettingsMap": {},
     "title": ""
    }
   },
   "outputs": [],
   "source": [
    "# run the svc model on validation data\n",
    "validation_scored_svm = svm_full_model.transform(validation_df)"
   ]
  },
  {
   "cell_type": "code",
   "execution_count": 0,
   "metadata": {
    "application/vnd.databricks.v1+cell": {
     "cellMetadata": {
      "byteLimit": 2048000,
      "rowLimit": 10000
     },
     "inputWidgets": {},
     "nuid": "994cebc2-1d6c-460e-833b-5ddd472cfde2",
     "showTitle": false,
     "tableResultSettingsMap": {},
     "title": ""
    }
   },
   "outputs": [],
   "source": [
    "display(validation_scored_svm)"
   ]
  },
  {
   "cell_type": "code",
   "execution_count": 0,
   "metadata": {
    "application/vnd.databricks.v1+cell": {
     "cellMetadata": {
      "byteLimit": 2048000,
      "rowLimit": 10000
     },
     "inputWidgets": {},
     "nuid": "0f9ac9b3-d4b1-4f23-8138-07ce9fcc93d0",
     "showTitle": false,
     "tableResultSettingsMap": {},
     "title": ""
    }
   },
   "outputs": [
    {
     "output_type": "stream",
     "name": "stdout",
     "output_type": "stream",
     "text": [
      "Accuracy: 0.8724348988193615\nF1 Score: 0.8130546932952187\nPrecision: 0.8121987440206856\nRecall: 0.8724348988193615\nArea under ROC: 0.7873422545265054\n"
     ]
    }
   ],
   "source": [
    "evaluator = MulticlassClassificationEvaluator(labelCol=\"target\", predictionCol=\"prediction\", metricName=\"accuracy\")\n",
    "\n",
    "accuracy = evaluator.evaluate(validation_scored_svm)\n",
    "print(f\"Accuracy: {accuracy}\")\n",
    "\n",
    "# F1\n",
    "evaluator.setMetricName(\"f1\")\n",
    "f1_score = evaluator.evaluate(validation_scored_svm)\n",
    "print(f\"F1 Score: {f1_score}\")\n",
    "\n",
    "# precision\n",
    "evaluator.setMetricName(\"weightedPrecision\")\n",
    "precision = evaluator.evaluate(validation_scored_svm)\n",
    "print(f\"Precision: {precision}\")\n",
    "\n",
    "# recall\n",
    "evaluator.setMetricName(\"weightedRecall\")\n",
    "recall = evaluator.evaluate(validation_scored_svm)\n",
    "print(f\"Recall: {recall}\")\n",
    "\n",
    "#auc\n",
    "print(f\"Area under ROC: {auc}\")"
   ]
  },
  {
   "cell_type": "markdown",
   "metadata": {
    "application/vnd.databricks.v1+cell": {
     "cellMetadata": {
      "byteLimit": 2048000,
      "rowLimit": 10000
     },
     "inputWidgets": {},
     "nuid": "30cfee75-878c-403d-a835-0fd15cfb97ba",
     "showTitle": false,
     "tableResultSettingsMap": {},
     "title": ""
    }
   },
   "source": [
    "### Gradient Boosted Tree"
   ]
  },
  {
   "cell_type": "code",
   "execution_count": 0,
   "metadata": {
    "application/vnd.databricks.v1+cell": {
     "cellMetadata": {
      "byteLimit": 2048000,
      "rowLimit": 10000
     },
     "inputWidgets": {},
     "nuid": "fd399f08-a752-4620-acf8-0ad46fc63ad2",
     "showTitle": false,
     "tableResultSettingsMap": {},
     "title": ""
    }
   },
   "outputs": [],
   "source": [
    "# Define the model of Gradient Boosting\n",
    "gbt = GBTClassifier(labelCol=\"target\", featuresCol=\"features\", maxIter=10)\n",
    "\n",
    "# Train\n",
    "gbt_model = gbt.fit(train_transform_df)\n",
    "\n",
    "# Predict over the train dataset\n",
    "predictions = gbt_model.transform(train_transform_df)\n",
    "\n",
    "# Evaluate the model with AUC\n",
    "evaluator = BinaryClassificationEvaluator(labelCol=\"target\")\n",
    "auc = evaluator.evaluate(predictions)\n",
    "print(\"AUC: \", auc)"
   ]
  },
  {
   "cell_type": "markdown",
   "metadata": {
    "application/vnd.databricks.v1+cell": {
     "cellMetadata": {},
     "inputWidgets": {},
     "nuid": "1592e156-cee4-4b35-91d8-43d01339ac11",
     "showTitle": false,
     "tableResultSettingsMap": {},
     "title": ""
    }
   },
   "source": [
    "####Evaluation"
   ]
  },
  {
   "cell_type": "code",
   "execution_count": 0,
   "metadata": {
    "application/vnd.databricks.v1+cell": {
     "cellMetadata": {
      "byteLimit": 2048000,
      "rowLimit": 10000
     },
     "inputWidgets": {},
     "nuid": "3c0584db-c846-44b0-bcae-31b20f731af6",
     "showTitle": false,
     "tableResultSettingsMap": {},
     "title": ""
    }
   },
   "outputs": [],
   "source": [
    "gbt_full_model= feature_model.copy()"
   ]
  },
  {
   "cell_type": "code",
   "execution_count": 0,
   "metadata": {
    "application/vnd.databricks.v1+cell": {
     "cellMetadata": {
      "byteLimit": 2048000,
      "rowLimit": 10000
     },
     "inputWidgets": {},
     "nuid": "599a6641-1554-4e13-a0fc-011c267590a7",
     "showTitle": false,
     "tableResultSettingsMap": {},
     "title": ""
    }
   },
   "outputs": [],
   "source": [
    "gbt_full_model.stages.append(gbt_model)"
   ]
  },
  {
   "cell_type": "code",
   "execution_count": 0,
   "metadata": {
    "application/vnd.databricks.v1+cell": {
     "cellMetadata": {
      "byteLimit": 2048000,
      "rowLimit": 10000
     },
     "inputWidgets": {},
     "nuid": "818312a1-aab3-437a-8ce1-a7cb31036097",
     "showTitle": false,
     "tableResultSettingsMap": {},
     "title": ""
    }
   },
   "outputs": [],
   "source": [
    "# run the model on validation data\n",
    "validation_scored_gbt = gbt_full_model.transform(validation_df)"
   ]
  },
  {
   "cell_type": "code",
   "execution_count": 0,
   "metadata": {
    "application/vnd.databricks.v1+cell": {
     "cellMetadata": {
      "byteLimit": 2048000,
      "rowLimit": 10000
     },
     "inputWidgets": {},
     "nuid": "9a724360-a951-47e1-993d-a3a3d83d864f",
     "showTitle": false,
     "tableResultSettingsMap": {},
     "title": ""
    }
   },
   "outputs": [],
   "source": [
    "display(validation_scored_gbt)"
   ]
  },
  {
   "cell_type": "code",
   "execution_count": 0,
   "metadata": {
    "application/vnd.databricks.v1+cell": {
     "cellMetadata": {
      "byteLimit": 2048000,
      "rowLimit": 10000
     },
     "inputWidgets": {},
     "nuid": "1a555c97-60d6-48e1-844c-6c678d146790",
     "showTitle": false,
     "tableResultSettingsMap": {},
     "title": ""
    }
   },
   "outputs": [
    {
     "output_type": "stream",
     "name": "stdout",
     "output_type": "stream",
     "text": [
      "Accuracy: 0.8745146571561875\nF1 Score: 0.827327073775794\nPrecision: 0.8402315334742553\nRecall: 0.8745146571561875\nArea under ROC: 0.7873422545265054\n"
     ]
    }
   ],
   "source": [
    "evaluator = MulticlassClassificationEvaluator(labelCol=\"target\", predictionCol=\"prediction\", metricName=\"accuracy\")\n",
    "\n",
    "accuracy = evaluator.evaluate(validation_scored_gbt)\n",
    "print(f\"Accuracy: {accuracy}\")\n",
    "\n",
    "# F1\n",
    "evaluator.setMetricName(\"f1\")\n",
    "f1_score = evaluator.evaluate(validation_scored_gbt)\n",
    "print(f\"F1 Score: {f1_score}\")\n",
    "\n",
    "# precision\n",
    "evaluator.setMetricName(\"weightedPrecision\")\n",
    "precision = evaluator.evaluate(validation_scored_gbt)\n",
    "print(f\"Precision: {precision}\")\n",
    "\n",
    "# recall\n",
    "evaluator.setMetricName(\"weightedRecall\")\n",
    "recall = evaluator.evaluate(validation_scored_gbt)\n",
    "print(f\"Recall: {recall}\")\n",
    "\n",
    "#auc\n",
    "print(f\"Area under ROC: {auc}\")"
   ]
  },
  {
   "cell_type": "markdown",
   "metadata": {
    "application/vnd.databricks.v1+cell": {
     "cellMetadata": {
      "byteLimit": 2048000,
      "rowLimit": 10000
     },
     "inputWidgets": {},
     "nuid": "e92cbfed-4d9d-46b6-b3c5-73b3e4000fb2",
     "showTitle": false,
     "tableResultSettingsMap": {},
     "title": ""
    }
   },
   "source": [
    "### Hyperparameter Tuning"
   ]
  },
  {
   "cell_type": "code",
   "execution_count": 0,
   "metadata": {
    "application/vnd.databricks.v1+cell": {
     "cellMetadata": {
      "byteLimit": 2048000,
      "rowLimit": 10000
     },
     "inputWidgets": {},
     "nuid": "1e3553c8-03b4-435c-8992-fda586c361bf",
     "showTitle": false,
     "tableResultSettingsMap": {},
     "title": ""
    }
   },
   "outputs": [],
   "source": [
    "# Define the model of Gradient Boosting\n",
    "gbt = GBTClassifier(labelCol=\"target\", featuresCol=\"features\")\n",
    "\n",
    "# Definir el evaluador (usamos AUC para clasificación binaria)\n",
    "evaluator = BinaryClassificationEvaluator(labelCol=\"target\")\n",
    "\n",
    "# Build the parameter for the grid search\n",
    "paramGrid = (ParamGridBuilder()\n",
    "             .addGrid(gbt.maxIter, [1, 5, 10])  # Number of iterations \n",
    "             .addGrid(gbt.maxDepth, [5, 10]) #Maximun depth of the trees \n",
    "             .build())\n",
    "\n",
    "# CrossValidation with the grid search\n",
    "cv = CrossValidator(estimator=gbt,\n",
    "                    estimatorParamMaps=paramGrid,\n",
    "                    evaluator=evaluator,\n",
    "                    numFolds=3,  # Number of folds for cross-validation\n",
    "                    seed=123)  # seed\n",
    "\n",
    "# Train the model with CrossValidator\n",
    "cvModel = cv.fit(train_transform_df)\n",
    "\n",
    "# Get the best model\n",
    "bestModel = cvModel.bestModel\n",
    "\n",
    "# Make predictions on the train dataset\n",
    "predictions = bestModel.transform(train_transform_df)\n",
    "\n",
    "# Evaluar el mejor modelo con AUC with the train dataset\n",
    "auc = evaluator.evaluate(predictions)\n",
    "print(\"Mejor AUC: \", auc)\n",
    "\n",
    "# Check the parameters of the best model\n",
    "print(\"Mejores parámetros: \", cvModel.bestModel.extractParamMap())"
   ]
  },
  {
   "cell_type": "markdown",
   "metadata": {
    "application/vnd.databricks.v1+cell": {
     "cellMetadata": {
      "byteLimit": 2048000,
      "rowLimit": 10000
     },
     "inputWidgets": {},
     "nuid": "696804cb-78bb-4d08-a07e-48a817276cbd",
     "showTitle": false,
     "tableResultSettingsMap": {},
     "title": ""
    }
   },
   "source": [
    "###Evaluation"
   ]
  },
  {
   "cell_type": "code",
   "execution_count": 0,
   "metadata": {
    "application/vnd.databricks.v1+cell": {
     "cellMetadata": {
      "byteLimit": 2048000,
      "rowLimit": 10000
     },
     "inputWidgets": {},
     "nuid": "61c11043-4323-4a20-a6b9-03a6007c0e72",
     "showTitle": false,
     "tableResultSettingsMap": {},
     "title": ""
    }
   },
   "outputs": [],
   "source": [
    "gbt_grid_full_model= feature_model.copy()"
   ]
  },
  {
   "cell_type": "code",
   "execution_count": 0,
   "metadata": {
    "application/vnd.databricks.v1+cell": {
     "cellMetadata": {
      "byteLimit": 2048000,
      "rowLimit": 10000
     },
     "inputWidgets": {},
     "nuid": "0eeefc2d-a90a-425c-be84-d5a0b3b87d25",
     "showTitle": false,
     "tableResultSettingsMap": {},
     "title": ""
    }
   },
   "outputs": [],
   "source": [
    "gbt_grid_full_model.stages.append(bestModel)"
   ]
  },
  {
   "cell_type": "code",
   "execution_count": 0,
   "metadata": {
    "application/vnd.databricks.v1+cell": {
     "cellMetadata": {
      "byteLimit": 2048000,
      "rowLimit": 10000
     },
     "inputWidgets": {},
     "nuid": "19e9e48c-6058-493d-92dd-2b4ab6f50116",
     "showTitle": false,
     "tableResultSettingsMap": {},
     "title": ""
    }
   },
   "outputs": [],
   "source": [
    "\n",
    "# run the model on validation data\n",
    "validation_scored_gbt_grid = gbt_grid_full_model.transform(validation_df)"
   ]
  },
  {
   "cell_type": "code",
   "execution_count": 0,
   "metadata": {
    "application/vnd.databricks.v1+cell": {
     "cellMetadata": {
      "byteLimit": 2048000,
      "rowLimit": 10000
     },
     "inputWidgets": {},
     "nuid": "a7c96ffa-8eff-4a4c-bb18-b5591e284e97",
     "showTitle": false,
     "tableResultSettingsMap": {},
     "title": ""
    }
   },
   "outputs": [],
   "source": [
    "display(validation_scored_gbt_grid)"
   ]
  },
  {
   "cell_type": "code",
   "execution_count": 0,
   "metadata": {
    "application/vnd.databricks.v1+cell": {
     "cellMetadata": {
      "byteLimit": 2048000,
      "rowLimit": 10000
     },
     "inputWidgets": {},
     "nuid": "8d4f2ce0-9f9c-4949-a986-229c80037934",
     "showTitle": false,
     "tableResultSettingsMap": {},
     "title": ""
    }
   },
   "outputs": [
    {
     "output_type": "stream",
     "name": "stdout",
     "output_type": "stream",
     "text": [
      "Accuracy: 0.8747597997738361\nF1 Score: 0.8322117004034857\nPrecision: 0.8400107538515055\nRecall: 0.8747597997738362\nArea under ROC: 0.7873422545265054\n"
     ]
    }
   ],
   "source": [
    "evaluator = MulticlassClassificationEvaluator(labelCol=\"target\", predictionCol=\"prediction\", metricName=\"accuracy\")\n",
    "accuracy = evaluator.evaluate(validation_scored_gbt_grid)\n",
    "print(f\"Accuracy: {accuracy}\")\n",
    "\n",
    "# F1\n",
    "evaluator.setMetricName(\"f1\")\n",
    "f1_score = evaluator.evaluate(validation_scored_gbt_grid)\n",
    "print(f\"F1 Score: {f1_score}\")\n",
    "\n",
    "# precision\n",
    "evaluator.setMetricName(\"weightedPrecision\")\n",
    "precision = evaluator.evaluate(validation_scored_gbt_grid)\n",
    "print(f\"Precision: {precision}\")\n",
    "\n",
    "# recall\n",
    "evaluator.setMetricName(\"weightedRecall\")\n",
    "recall = evaluator.evaluate(validation_scored_gbt_grid)\n",
    "print(f\"Recall: {recall}\")\n",
    "\n",
    "#auc\n",
    "print(f\"Area under ROC: {auc}\")"
   ]
  },
  {
   "cell_type": "markdown",
   "metadata": {
    "application/vnd.databricks.v1+cell": {
     "cellMetadata": {
      "byteLimit": 2048000,
      "rowLimit": 10000
     },
     "inputWidgets": {},
     "nuid": "f5c97432-0356-4293-8d00-3df6bb2566d6",
     "showTitle": false,
     "tableResultSettingsMap": {},
     "title": ""
    }
   },
   "source": [
    "### Save the models"
   ]
  },
  {
   "cell_type": "code",
   "execution_count": 0,
   "metadata": {
    "application/vnd.databricks.v1+cell": {
     "cellMetadata": {
      "byteLimit": 2048000,
      "rowLimit": 10000
     },
     "inputWidgets": {},
     "nuid": "25ee4af9-5a82-47d9-bcb0-444244be131f",
     "showTitle": false,
     "tableResultSettingsMap": {},
     "title": ""
    }
   },
   "outputs": [],
   "source": [
    "# Save the svm model in the container\n",
    "svm_model.write().overwrite().save(f\"{wasbs_path}models/svm_model_month_sales_growth_prediction\")"
   ]
  },
  {
   "cell_type": "code",
   "execution_count": 0,
   "metadata": {
    "application/vnd.databricks.v1+cell": {
     "cellMetadata": {
      "byteLimit": 2048000,
      "rowLimit": 10000
     },
     "inputWidgets": {},
     "nuid": "d5c5fb77-a0a5-4848-ab97-dec61a16882f",
     "showTitle": false,
     "tableResultSettingsMap": {},
     "title": ""
    }
   },
   "outputs": [],
   "source": [
    "# Save the gbt model in the container\n",
    "gbt_model.write().overwrite().save(f\"{wasbs_path}models/gbt_model_month_sales_growth_prediction\")"
   ]
  },
  {
   "cell_type": "code",
   "execution_count": 0,
   "metadata": {
    "application/vnd.databricks.v1+cell": {
     "cellMetadata": {
      "byteLimit": 2048000,
      "rowLimit": 10000
     },
     "inputWidgets": {},
     "nuid": "0617b88c-d319-4610-a3e3-79abe48f8d62",
     "showTitle": false,
     "tableResultSettingsMap": {},
     "title": ""
    }
   },
   "outputs": [],
   "source": [
    "# Save the gbt model from the grid search in the container\n",
    "bestModel.write().overwrite().save(f\"{wasbs_path}models/gbt_model_grid_month_sales_growth_prediction\")"
   ]
  }
 ],
 "metadata": {
  "application/vnd.databricks.v1+notebook": {
   "computePreferences": null,
   "dashboards": [],
   "environmentMetadata": {
    "base_environment": "",
    "client": "1"
   },
   "language": "python",
   "notebookMetadata": {
    "pythonIndentUnit": 4
   },
   "notebookName": "05 - Machine Learning",
   "widgets": {}
  },
  "language_info": {
   "name": "python"
  }
 },
 "nbformat": 4,
 "nbformat_minor": 0
}