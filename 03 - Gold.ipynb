{
 "cells": [
  {
   "cell_type": "code",
   "execution_count": 0,
   "metadata": {
    "application/vnd.databricks.v1+cell": {
     "cellMetadata": {
      "byteLimit": 2048000,
      "rowLimit": 10000
     },
     "inputWidgets": {},
     "nuid": "dbfa7c06-c7ff-4c11-b3b5-45c28b74e118",
     "showTitle": false,
     "tableResultSettingsMap": {},
     "title": ""
    }
   },
   "outputs": [],
   "source": [
    "from pyspark.sql import functions as F\n",
    "from pyspark.sql.types import *"
   ]
  },
  {
   "cell_type": "code",
   "execution_count": 0,
   "metadata": {
    "application/vnd.databricks.v1+cell": {
     "cellMetadata": {
      "byteLimit": 2048000,
      "rowLimit": 10000
     },
     "inputWidgets": {},
     "nuid": "42a3cc4f-1922-4f94-bc59-efc40964fcd5",
     "showTitle": false,
     "tableResultSettingsMap": {},
     "title": ""
    }
   },
   "outputs": [
    {
     "output_type": "stream",
     "name": "stdout",
     "output_type": "stream",
     "text": [
      "Remote blob path: wasbs://marketplace@bgupb202402juanbarriento.blob.core.windows.net/\n"
     ]
    }
   ],
   "source": [
    " # Azure storage access info\n",
    "blob_account_name = \"bgupb202402juanbarriento\"\n",
    "blob_container_name = \"marketplace\"\n",
    "blob_sas_token = 'sv=2022-11-02&ss=bfqt&srt=sco&sp=rwdlacupiytfx&se=2024-12-01T01:56:16Z&st=2024-10-16T17:56:16Z&spr=https&sig=cM7vK4vvrL9YH31ZYI%2BX%2BmssMUTdRieP%2BMGcVNPoagA%3D'\n",
    "\n",
    "# Allow SPARK to read from Blob remotely\n",
    "wasbs_path = f'wasbs://{blob_container_name}@{blob_account_name}.blob.core.windows.net/'\n",
    "spark.conf.set( f'fs.azure.sas.{blob_container_name}.{blob_account_name}.blob.core.windows.net' , blob_sas_token)\n",
    "print('Remote blob path: ' + wasbs_path)"
   ]
  },
  {
   "cell_type": "code",
   "execution_count": 0,
   "metadata": {
    "application/vnd.databricks.v1+cell": {
     "cellMetadata": {
      "byteLimit": 2048000,
      "rowLimit": 10000
     },
     "inputWidgets": {},
     "nuid": "b7da79e9-299d-4e6b-894e-f6edbaf25424",
     "showTitle": false,
     "tableResultSettingsMap": {},
     "title": ""
    }
   },
   "outputs": [],
   "source": [
    "silver_df = spark.read.format(\"delta\").load(f\"{wasbs_path}silver\")"
   ]
  },
  {
   "cell_type": "code",
   "execution_count": 0,
   "metadata": {
    "application/vnd.databricks.v1+cell": {
     "cellMetadata": {
      "byteLimit": 2048000,
      "implicitDf": true,
      "rowLimit": 10000
     },
     "inputWidgets": {},
     "nuid": "a3b79c1f-44fa-4a13-94a3-da5d3d31044c",
     "showTitle": false,
     "tableResultSettingsMap": {},
     "title": ""
    }
   },
   "outputs": [],
   "source": [
    "# Create the sales by product table, including total sales and average price\n",
    "gold_df_sales_by_product = silver_df.groupBy(\n",
    "    \"year\", \"month\",\"product_id\", \"brand\", \"category\", \"subcategory\"\n",
    ").agg(\n",
    "    F.count(\"event_type\").alias(\"event_count\"),  # Count number of events (sales/visits)\n",
    "    F.sum(\"price\").alias(\"total_sales\"),        # Sum of sales (total revenue)\n",
    "    F.avg(\"price\").alias(\"avg_price\"),          # Average price of the product\n",
    "    F.first(\"category_code\").alias(\"category_code\")  # Take the first non-null category code\n",
    ")"
   ]
  },
  {
   "cell_type": "code",
   "execution_count": 0,
   "metadata": {
    "application/vnd.databricks.v1+cell": {
     "cellMetadata": {
      "byteLimit": 2048000,
      "rowLimit": 10000
     },
     "inputWidgets": {},
     "nuid": "200b7920-af93-4c1b-a169-c4cb4b6f130d",
     "showTitle": false,
     "tableResultSettingsMap": {},
     "title": ""
    }
   },
   "outputs": [],
   "source": [
    "gold_df_sales_by_product.write.format(\"delta\").mode(\"overwrite\").partitionBy(\"year\", \"month\").save(f\"{wasbs_path}gold4/sales_by_product\")"
   ]
  },
  {
   "cell_type": "code",
   "execution_count": 0,
   "metadata": {
    "application/vnd.databricks.v1+cell": {
     "cellMetadata": {
      "byteLimit": 2048000,
      "implicitDf": true,
      "rowLimit": 10000
     },
     "inputWidgets": {},
     "nuid": "8d44a270-8505-46c1-82c6-abc3d05ba8a6",
     "showTitle": false,
     "tableResultSettingsMap": {},
     "title": ""
    }
   },
   "outputs": [
    {
     "output_type": "display_data",
     "data": {
      "text/html": [
       "<style scoped>\n",
       "  .table-result-container {\n",
       "    max-height: 300px;\n",
       "    overflow: auto;\n",
       "  }\n",
       "  table, th, td {\n",
       "    border: 1px solid black;\n",
       "    border-collapse: collapse;\n",
       "  }\n",
       "  th, td {\n",
       "    padding: 5px;\n",
       "  }\n",
       "  th {\n",
       "    text-align: left;\n",
       "  }\n",
       "</style><div class='table-result-container'><table class='table-result'><thead style='background-color: white'><tr></tr></thead><tbody></tbody></table></div>"
      ]
     },
     "metadata": {
      "application/vnd.databricks.v1+output": {
       "addedWidgets": {},
       "aggData": [],
       "aggError": "",
       "aggOverflow": false,
       "aggSchema": [],
       "aggSeriesLimitReached": false,
       "aggType": "",
       "arguments": {},
       "columnCustomDisplayInfos": {},
       "data": [],
       "datasetInfos": [],
       "dbfsResultPath": null,
       "isJsonSchema": true,
       "metadata": {
        "dataframeName": null
       },
       "overflow": false,
       "plotOptions": {
        "customPlotOptions": {},
        "displayType": "table",
        "pivotAggregation": null,
        "pivotColumns": null,
        "xColumns": null,
        "yColumns": null
       },
       "removedWidgets": [],
       "schema": [],
       "type": "table"
      }
     },
     "output_type": "display_data"
    }
   ],
   "source": [
    "%sql\n",
    "USE jdbr_mkp;\n",
    "DROP TABLE IF EXISTS mkp_gold_sales_by_product;\n",
    "CREATE TABLE mkp_gold_sales_by_product\n",
    "USING DELTA\n",
    "LOCATION 'wasbs://marketplace@bgupb202402juanbarriento.blob.core.windows.net/gold4/sales_by_product'"
   ]
  },
  {
   "cell_type": "code",
   "execution_count": 0,
   "metadata": {
    "application/vnd.databricks.v1+cell": {
     "cellMetadata": {
      "byteLimit": 2048000,
      "implicitDf": true,
      "rowLimit": 10000
     },
     "inputWidgets": {},
     "nuid": "6a8db3ed-4d8f-4c2a-a5a1-f1724d661dca",
     "showTitle": false,
     "tableResultSettingsMap": {},
     "title": ""
    }
   },
   "outputs": [
    {
     "output_type": "display_data",
     "data": {
      "text/html": [
       "<style scoped>\n",
       "  .table-result-container {\n",
       "    max-height: 300px;\n",
       "    overflow: auto;\n",
       "  }\n",
       "  table, th, td {\n",
       "    border: 1px solid black;\n",
       "    border-collapse: collapse;\n",
       "  }\n",
       "  th, td {\n",
       "    padding: 5px;\n",
       "  }\n",
       "  th {\n",
       "    text-align: left;\n",
       "  }\n",
       "</style><div class='table-result-container'><table class='table-result'><thead style='background-color: white'><tr><th>year</th><th>month</th><th>product_id</th><th>brand</th><th>category</th><th>subcategory</th><th>event_count</th><th>total_sales</th><th>avg_price</th><th>category_code</th></tr></thead><tbody><tr><td>2019</td><td>10</td><td>1005116</td><td>apple</td><td>electronics</td><td>smartphone</td><td>53560</td><td>5.677346294999258E7</td><td>1059.9974411873147</td><td>electronics.smartphone</td></tr><tr><td>2019</td><td>10</td><td>1004919</td><td>apple</td><td>electronics</td><td>smartphone</td><td>2946</td><td>2619088.1400000127</td><td>889.031955193487</td><td>electronics.smartphone</td></tr><tr><td>2019</td><td>10</td><td>1002629</td><td>apple</td><td>electronics</td><td>smartphone</td><td>33885</td><td>1.2312750210000293E7</td><td>363.36875343073024</td><td>electronics.smartphone</td></tr><tr><td>2019</td><td>10</td><td>1005117</td><td>apple</td><td>electronics</td><td>smartphone</td><td>8986</td><td>1.066956196000027E7</td><td>1187.3538793679356</td><td>electronics.smartphone</td></tr><tr><td>2019</td><td>10</td><td>1004564</td><td>meizu</td><td>electronics</td><td>smartphone</td><td>14838</td><td>1937084.4800000142</td><td>130.54889338185836</td><td>electronics.smartphone</td></tr><tr><td>2019</td><td>10</td><td>1004239</td><td>apple</td><td>electronics</td><td>smartphone</td><td>2232</td><td>2971727.770000021</td><td>1331.419251792124</td><td>electronics.smartphone</td></tr><tr><td>2019</td><td>10</td><td>1003428</td><td>meizu</td><td>electronics</td><td>smartphone</td><td>5511</td><td>2253821.1800000463</td><td>408.96773362367014</td><td>electronics.smartphone</td></tr><tr><td>2019</td><td>10</td><td>1004888</td><td>samsung</td><td>electronics</td><td>smartphone</td><td>20339</td><td>4640477.900000142</td><td>228.156639952807</td><td>electronics.smartphone</td></tr><tr><td>2019</td><td>10</td><td>1003713</td><td>samsung</td><td>electronics</td><td>smartphone</td><td>2678</td><td>1932235.0899999938</td><td>721.521691560864</td><td>electronics.smartphone</td></tr><tr><td>2019</td><td>10</td><td>1005152</td><td>xiaomi</td><td>electronics</td><td>smartphone</td><td>3916</td><td>1612503.1500000064</td><td>411.77302093973606</td><td>electronics.smartphone</td></tr></tbody></table></div>"
      ]
     },
     "metadata": {
      "application/vnd.databricks.v1+output": {
       "addedWidgets": {},
       "aggData": [],
       "aggError": "",
       "aggOverflow": false,
       "aggSchema": [],
       "aggSeriesLimitReached": false,
       "aggType": "",
       "arguments": {},
       "columnCustomDisplayInfos": {},
       "data": [
        [
         2019,
         10,
         "1005116",
         "apple",
         "electronics",
         "smartphone",
         53560,
         5.677346294999258E7,
         1059.9974411873147,
         "electronics.smartphone"
        ],
        [
         2019,
         10,
         "1004919",
         "apple",
         "electronics",
         "smartphone",
         2946,
         2619088.1400000127,
         889.031955193487,
         "electronics.smartphone"
        ],
        [
         2019,
         10,
         "1002629",
         "apple",
         "electronics",
         "smartphone",
         33885,
         1.2312750210000293E7,
         363.36875343073024,
         "electronics.smartphone"
        ],
        [
         2019,
         10,
         "1005117",
         "apple",
         "electronics",
         "smartphone",
         8986,
         1.066956196000027E7,
         1187.3538793679356,
         "electronics.smartphone"
        ],
        [
         2019,
         10,
         "1004564",
         "meizu",
         "electronics",
         "smartphone",
         14838,
         1937084.4800000142,
         130.54889338185836,
         "electronics.smartphone"
        ],
        [
         2019,
         10,
         "1004239",
         "apple",
         "electronics",
         "smartphone",
         2232,
         2971727.770000021,
         1331.419251792124,
         "electronics.smartphone"
        ],
        [
         2019,
         10,
         "1003428",
         "meizu",
         "electronics",
         "smartphone",
         5511,
         2253821.1800000463,
         408.96773362367014,
         "electronics.smartphone"
        ],
        [
         2019,
         10,
         "1004888",
         "samsung",
         "electronics",
         "smartphone",
         20339,
         4640477.900000142,
         228.156639952807,
         "electronics.smartphone"
        ],
        [
         2019,
         10,
         "1003713",
         "samsung",
         "electronics",
         "smartphone",
         2678,
         1932235.0899999938,
         721.521691560864,
         "electronics.smartphone"
        ],
        [
         2019,
         10,
         "1005152",
         "xiaomi",
         "electronics",
         "smartphone",
         3916,
         1612503.1500000064,
         411.77302093973606,
         "electronics.smartphone"
        ]
       ],
       "datasetInfos": [],
       "dbfsResultPath": null,
       "isJsonSchema": true,
       "metadata": {
        "dataframeName": "_sqldf",
        "executionCount": 6
       },
       "overflow": false,
       "plotOptions": {
        "customPlotOptions": {},
        "displayType": "table",
        "pivotAggregation": null,
        "pivotColumns": null,
        "xColumns": null,
        "yColumns": null
       },
       "removedWidgets": [],
       "schema": [
        {
         "metadata": "{}",
         "name": "year",
         "type": "\"integer\""
        },
        {
         "metadata": "{}",
         "name": "month",
         "type": "\"integer\""
        },
        {
         "metadata": "{}",
         "name": "product_id",
         "type": "\"string\""
        },
        {
         "metadata": "{}",
         "name": "brand",
         "type": "\"string\""
        },
        {
         "metadata": "{}",
         "name": "category",
         "type": "\"string\""
        },
        {
         "metadata": "{}",
         "name": "subcategory",
         "type": "\"string\""
        },
        {
         "metadata": "{}",
         "name": "event_count",
         "type": "\"long\""
        },
        {
         "metadata": "{}",
         "name": "total_sales",
         "type": "\"double\""
        },
        {
         "metadata": "{}",
         "name": "avg_price",
         "type": "\"double\""
        },
        {
         "metadata": "{}",
         "name": "category_code",
         "type": "\"string\""
        }
       ],
       "type": "table"
      }
     },
     "output_type": "display_data"
    }
   ],
   "source": [
    "%sql\n",
    "SELECT * FROM jdbr_mkp.mkp_gold_sales_by_product\n",
    "LIMIT 10"
   ]
  },
  {
   "cell_type": "code",
   "execution_count": 0,
   "metadata": {
    "application/vnd.databricks.v1+cell": {
     "cellMetadata": {
      "byteLimit": 2048000,
      "rowLimit": 10000
     },
     "inputWidgets": {},
     "nuid": "cf40d82f-29da-4717-9cfb-48ee16ab19cb",
     "showTitle": false,
     "tableResultSettingsMap": {},
     "title": ""
    }
   },
   "outputs": [],
   "source": [
    "# Create the user sessions table, counting the number of events per session\n",
    "gold_df_sessions = silver_df.groupBy(\n",
    "    \"user_id\", \"user_session\", \"category\", \"subcategory\"\n",
    ").agg(\n",
    "    F.count(\"event_type\").alias(\"event_count\"),  # Number of events per session\n",
    "    F.sum(\"price\").alias(\"total_spent\"),         # Total amount spent by the user during the session\n",
    "    F.first(\"month\").alias(\"month\"),             # Capture the session's month\n",
    "    F.first(\"year\").alias(\"year\")                # Capture the session's year\n",
    ")"
   ]
  },
  {
   "cell_type": "code",
   "execution_count": 0,
   "metadata": {
    "application/vnd.databricks.v1+cell": {
     "cellMetadata": {
      "byteLimit": 2048000,
      "rowLimit": 10000
     },
     "inputWidgets": {},
     "nuid": "b15a93b1-e061-4728-bf88-498ac355c2be",
     "showTitle": false,
     "tableResultSettingsMap": {},
     "title": ""
    }
   },
   "outputs": [],
   "source": [
    "gold_df_sessions.write.format(\"delta\").mode(\"overwrite\").partitionBy(\"year\", \"month\").save(f\"{wasbs_path}gold4/sessions\")"
   ]
  },
  {
   "cell_type": "code",
   "execution_count": 0,
   "metadata": {
    "application/vnd.databricks.v1+cell": {
     "cellMetadata": {
      "byteLimit": 2048000,
      "implicitDf": true,
      "rowLimit": 10000
     },
     "inputWidgets": {},
     "nuid": "2cd33804-81b2-4ec8-9147-d20cdf5fd515",
     "showTitle": false,
     "tableResultSettingsMap": {},
     "title": ""
    }
   },
   "outputs": [
    {
     "output_type": "display_data",
     "data": {
      "text/html": [
       "<style scoped>\n",
       "  .table-result-container {\n",
       "    max-height: 300px;\n",
       "    overflow: auto;\n",
       "  }\n",
       "  table, th, td {\n",
       "    border: 1px solid black;\n",
       "    border-collapse: collapse;\n",
       "  }\n",
       "  th, td {\n",
       "    padding: 5px;\n",
       "  }\n",
       "  th {\n",
       "    text-align: left;\n",
       "  }\n",
       "</style><div class='table-result-container'><table class='table-result'><thead style='background-color: white'><tr></tr></thead><tbody></tbody></table></div>"
      ]
     },
     "metadata": {
      "application/vnd.databricks.v1+output": {
       "addedWidgets": {},
       "aggData": [],
       "aggError": "",
       "aggOverflow": false,
       "aggSchema": [],
       "aggSeriesLimitReached": false,
       "aggType": "",
       "arguments": {},
       "columnCustomDisplayInfos": {},
       "data": [],
       "datasetInfos": [],
       "dbfsResultPath": null,
       "isJsonSchema": true,
       "metadata": {
        "dataframeName": null
       },
       "overflow": false,
       "plotOptions": {
        "customPlotOptions": {},
        "displayType": "table",
        "pivotAggregation": null,
        "pivotColumns": null,
        "xColumns": null,
        "yColumns": null
       },
       "removedWidgets": [],
       "schema": [],
       "type": "table"
      }
     },
     "output_type": "display_data"
    }
   ],
   "source": [
    "%sql\n",
    "USE jdbr_mkp;\n",
    "DROP TABLE IF EXISTS mkp_gold_sessions;\n",
    "CREATE TABLE mkp_gold_sessions\n",
    "USING DELTA\n",
    "LOCATION 'wasbs://marketplace@bgupb202402juanbarriento.blob.core.windows.net/gold4/sessions'"
   ]
  },
  {
   "cell_type": "code",
   "execution_count": 0,
   "metadata": {
    "application/vnd.databricks.v1+cell": {
     "cellMetadata": {
      "byteLimit": 2048000,
      "implicitDf": true,
      "rowLimit": 10000
     },
     "inputWidgets": {},
     "nuid": "253d66a2-f1d0-48a6-9b4f-46ca5f5441ed",
     "showTitle": false,
     "tableResultSettingsMap": {},
     "title": ""
    }
   },
   "outputs": [
    {
     "output_type": "display_data",
     "data": {
      "text/html": [
       "<style scoped>\n",
       "  .table-result-container {\n",
       "    max-height: 300px;\n",
       "    overflow: auto;\n",
       "  }\n",
       "  table, th, td {\n",
       "    border: 1px solid black;\n",
       "    border-collapse: collapse;\n",
       "  }\n",
       "  th, td {\n",
       "    padding: 5px;\n",
       "  }\n",
       "  th {\n",
       "    text-align: left;\n",
       "  }\n",
       "</style><div class='table-result-container'><table class='table-result'><thead style='background-color: white'><tr><th>user_id</th><th>user_session</th><th>category</th><th>subcategory</th><th>event_count</th><th>total_spent</th><th>month</th><th>year</th></tr></thead><tbody><tr><td>523102056</td><td>308011e2-0326-48b3-89c7-47329e7baee2</td><td>apparel</td><td>belt</td><td>3</td><td>38.82</td><td>1</td><td>2020</td></tr><tr><td>579437195</td><td>52d7b9fa-3973-411a-8b1f-d88a88e2773c</td><td>apparel</td><td>belt</td><td>4</td><td>211.48000000000002</td><td>1</td><td>2020</td></tr><tr><td>599622270</td><td>65acc7f5-c358-446a-82bf-dc2495bde9b8</td><td>apparel</td><td>belt</td><td>3</td><td>110.94</td><td>1</td><td>2020</td></tr><tr><td>513084984</td><td>0debd018-8eb7-46eb-aa32-8e1cdc7d0c68</td><td>apparel</td><td>belt</td><td>2</td><td>121.14</td><td>1</td><td>2020</td></tr><tr><td>598465711</td><td>18ae322a-d915-469a-bf4a-538078151806</td><td>apparel</td><td>skirt</td><td>2</td><td>1112.88</td><td>1</td><td>2020</td></tr><tr><td>526864734</td><td>648ed2cf-434c-49ff-b174-c81395b2c3b9</td><td>apparel</td><td>belt</td><td>1</td><td>43.76</td><td>1</td><td>2020</td></tr><tr><td>578353151</td><td>d59a6f50-8bac-4f44-a2c4-6e3f7557fc1c</td><td>apparel</td><td>belt</td><td>1</td><td>20.54</td><td>1</td><td>2020</td></tr><tr><td>547887517</td><td>878163f4-999a-4ff8-925b-ed5a420c8bad</td><td>apparel</td><td>belt</td><td>1</td><td>25.74</td><td>1</td><td>2020</td></tr><tr><td>588123954</td><td>a826a252-a5ed-44aa-89c5-db7158321656</td><td>apparel</td><td>jacket</td><td>2</td><td>132.66</td><td>1</td><td>2020</td></tr><tr><td>575351074</td><td>dde4191f-eb2f-4c4d-ab14-976725711e3a</td><td>apparel</td><td>jacket</td><td>1</td><td>66.33</td><td>1</td><td>2020</td></tr></tbody></table></div>"
      ]
     },
     "metadata": {
      "application/vnd.databricks.v1+output": {
       "addedWidgets": {},
       "aggData": [],
       "aggError": "",
       "aggOverflow": false,
       "aggSchema": [],
       "aggSeriesLimitReached": false,
       "aggType": "",
       "arguments": {},
       "columnCustomDisplayInfos": {},
       "data": [
        [
         "523102056",
         "308011e2-0326-48b3-89c7-47329e7baee2",
         "apparel",
         "belt",
         3,
         38.82,
         1,
         2020
        ],
        [
         "579437195",
         "52d7b9fa-3973-411a-8b1f-d88a88e2773c",
         "apparel",
         "belt",
         4,
         211.48000000000002,
         1,
         2020
        ],
        [
         "599622270",
         "65acc7f5-c358-446a-82bf-dc2495bde9b8",
         "apparel",
         "belt",
         3,
         110.94,
         1,
         2020
        ],
        [
         "513084984",
         "0debd018-8eb7-46eb-aa32-8e1cdc7d0c68",
         "apparel",
         "belt",
         2,
         121.14,
         1,
         2020
        ],
        [
         "598465711",
         "18ae322a-d915-469a-bf4a-538078151806",
         "apparel",
         "skirt",
         2,
         1112.88,
         1,
         2020
        ],
        [
         "526864734",
         "648ed2cf-434c-49ff-b174-c81395b2c3b9",
         "apparel",
         "belt",
         1,
         43.76,
         1,
         2020
        ],
        [
         "578353151",
         "d59a6f50-8bac-4f44-a2c4-6e3f7557fc1c",
         "apparel",
         "belt",
         1,
         20.54,
         1,
         2020
        ],
        [
         "547887517",
         "878163f4-999a-4ff8-925b-ed5a420c8bad",
         "apparel",
         "belt",
         1,
         25.74,
         1,
         2020
        ],
        [
         "588123954",
         "a826a252-a5ed-44aa-89c5-db7158321656",
         "apparel",
         "jacket",
         2,
         132.66,
         1,
         2020
        ],
        [
         "575351074",
         "dde4191f-eb2f-4c4d-ab14-976725711e3a",
         "apparel",
         "jacket",
         1,
         66.33,
         1,
         2020
        ]
       ],
       "datasetInfos": [],
       "dbfsResultPath": null,
       "isJsonSchema": true,
       "metadata": {
        "dataframeName": "_sqldf",
        "executionCount": 9
       },
       "overflow": false,
       "plotOptions": {
        "customPlotOptions": {},
        "displayType": "table",
        "pivotAggregation": null,
        "pivotColumns": null,
        "xColumns": null,
        "yColumns": null
       },
       "removedWidgets": [],
       "schema": [
        {
         "metadata": "{}",
         "name": "user_id",
         "type": "\"string\""
        },
        {
         "metadata": "{}",
         "name": "user_session",
         "type": "\"string\""
        },
        {
         "metadata": "{}",
         "name": "category",
         "type": "\"string\""
        },
        {
         "metadata": "{}",
         "name": "subcategory",
         "type": "\"string\""
        },
        {
         "metadata": "{}",
         "name": "event_count",
         "type": "\"long\""
        },
        {
         "metadata": "{}",
         "name": "total_spent",
         "type": "\"double\""
        },
        {
         "metadata": "{}",
         "name": "month",
         "type": "\"integer\""
        },
        {
         "metadata": "{}",
         "name": "year",
         "type": "\"integer\""
        }
       ],
       "type": "table"
      }
     },
     "output_type": "display_data"
    }
   ],
   "source": [
    "%sql\n",
    "SELECT * FROM jdbr_mkp.mkp_gold_sessions\n",
    "LIMIT 10"
   ]
  },
  {
   "cell_type": "code",
   "execution_count": 0,
   "metadata": {
    "application/vnd.databricks.v1+cell": {
     "cellMetadata": {
      "byteLimit": 2048000,
      "rowLimit": 10000
     },
     "inputWidgets": {},
     "nuid": "9712b880-5482-4632-a2ac-96953a019bea",
     "showTitle": false,
     "tableResultSettingsMap": {},
     "title": ""
    }
   },
   "outputs": [],
   "source": [
    "# Create the sales by day of the week and category table\n",
    "gold_df_sales_by_day = silver_df.groupBy(\n",
    "    \"day_of_week\", \"category\", \"subcategory\"\n",
    ").agg(\n",
    "    F.count(\"event_type\").alias(\"event_count\"),  # Count the number of events per day/category\n",
    "    F.sum(\"price\").alias(\"total_sales\"),         # Sum of total sales per day/category\n",
    "    F.first(\"year\").alias(\"year\"),               # Capture the year\n",
    "    F.first(\"month\").alias(\"month\")              # Capture the month\n",
    ")"
   ]
  },
  {
   "cell_type": "code",
   "execution_count": 0,
   "metadata": {
    "application/vnd.databricks.v1+cell": {
     "cellMetadata": {
      "byteLimit": 2048000,
      "rowLimit": 10000
     },
     "inputWidgets": {},
     "nuid": "d7c4a9f4-93a5-406f-b356-6e682e59b87b",
     "showTitle": false,
     "tableResultSettingsMap": {},
     "title": ""
    }
   },
   "outputs": [],
   "source": [
    "gold_df_sales_by_day.write.format(\"delta\").mode(\"overwrite\").partitionBy(\"year\", \"month\").save(f\"{wasbs_path}gold4/sales_by_day\")"
   ]
  },
  {
   "cell_type": "code",
   "execution_count": 0,
   "metadata": {
    "application/vnd.databricks.v1+cell": {
     "cellMetadata": {
      "byteLimit": 2048000,
      "implicitDf": true,
      "rowLimit": 10000
     },
     "inputWidgets": {},
     "nuid": "e0207602-d914-4942-a1c4-e1833be9dc8b",
     "showTitle": false,
     "tableResultSettingsMap": {},
     "title": ""
    }
   },
   "outputs": [
    {
     "output_type": "display_data",
     "data": {
      "text/html": [
       "<style scoped>\n",
       "  .table-result-container {\n",
       "    max-height: 300px;\n",
       "    overflow: auto;\n",
       "  }\n",
       "  table, th, td {\n",
       "    border: 1px solid black;\n",
       "    border-collapse: collapse;\n",
       "  }\n",
       "  th, td {\n",
       "    padding: 5px;\n",
       "  }\n",
       "  th {\n",
       "    text-align: left;\n",
       "  }\n",
       "</style><div class='table-result-container'><table class='table-result'><thead style='background-color: white'><tr></tr></thead><tbody></tbody></table></div>"
      ]
     },
     "metadata": {
      "application/vnd.databricks.v1+output": {
       "addedWidgets": {},
       "aggData": [],
       "aggError": "",
       "aggOverflow": false,
       "aggSchema": [],
       "aggSeriesLimitReached": false,
       "aggType": "",
       "arguments": {},
       "columnCustomDisplayInfos": {},
       "data": [],
       "datasetInfos": [],
       "dbfsResultPath": null,
       "isJsonSchema": true,
       "metadata": {
        "dataframeName": null
       },
       "overflow": false,
       "plotOptions": {
        "customPlotOptions": {},
        "displayType": "table",
        "pivotAggregation": null,
        "pivotColumns": null,
        "xColumns": null,
        "yColumns": null
       },
       "removedWidgets": [],
       "schema": [],
       "type": "table"
      }
     },
     "output_type": "display_data"
    }
   ],
   "source": [
    "%sql\n",
    "USE jdbr_mkp;\n",
    "DROP TABLE IF EXISTS mkp_gold_sales_by_day;\n",
    "CREATE TABLE mkp_gold_sales_by_day\n",
    "LOCATION 'wasbs://marketplace@bgupb202402juanbarriento.blob.core.windows.net/gold4/sales_by_day'"
   ]
  },
  {
   "cell_type": "code",
   "execution_count": 0,
   "metadata": {
    "application/vnd.databricks.v1+cell": {
     "cellMetadata": {
      "byteLimit": 2048000,
      "implicitDf": true,
      "rowLimit": 10000
     },
     "inputWidgets": {},
     "nuid": "90078bea-b513-4d64-8488-1ee814d0b889",
     "showTitle": false,
     "tableResultSettingsMap": {},
     "title": ""
    }
   },
   "outputs": [
    {
     "output_type": "display_data",
     "data": {
      "text/html": [
       "<style scoped>\n",
       "  .table-result-container {\n",
       "    max-height: 300px;\n",
       "    overflow: auto;\n",
       "  }\n",
       "  table, th, td {\n",
       "    border: 1px solid black;\n",
       "    border-collapse: collapse;\n",
       "  }\n",
       "  th, td {\n",
       "    padding: 5px;\n",
       "  }\n",
       "  th {\n",
       "    text-align: left;\n",
       "  }\n",
       "</style><div class='table-result-container'><table class='table-result'><thead style='background-color: white'><tr><th>day_of_week</th><th>category</th><th>subcategory</th><th>event_count</th><th>total_sales</th><th>year</th><th>month</th></tr></thead><tbody><tr><td>3</td><td>kids</td><td>fmcg</td><td>19832</td><td>1292846.3999999969</td><td>2019</td><td>10</td></tr><tr><td>7</td><td>kids</td><td>fmcg</td><td>18411</td><td>1106415.0799999963</td><td>2019</td><td>10</td></tr><tr><td>6</td><td>kids</td><td>fmcg</td><td>19303</td><td>1155904.0099999944</td><td>2019</td><td>10</td></tr><tr><td>4</td><td>kids</td><td>fmcg</td><td>18693</td><td>1198632.980000016</td><td>2019</td><td>10</td></tr><tr><td>2</td><td>kids</td><td>fmcg</td><td>19507</td><td>1297272.7900000005</td><td>2019</td><td>10</td></tr><tr><td>5</td><td>kids</td><td>fmcg</td><td>19384</td><td>1153125.370000002</td><td>2019</td><td>10</td></tr><tr><td>1</td><td>kids</td><td>fmcg</td><td>18909</td><td>1262839.3200000068</td><td>2019</td><td>10</td></tr><tr><td>3</td><td>appliances</td><td>iron</td><td>56975</td><td>7273869.199999969</td><td>2019</td><td>10</td></tr><tr><td>4</td><td>appliances</td><td>iron</td><td>54135</td><td>7026003.969999998</td><td>2019</td><td>10</td></tr><tr><td>2</td><td>appliances</td><td>iron</td><td>58510</td><td>7446217.500000173</td><td>2019</td><td>10</td></tr></tbody></table></div>"
      ]
     },
     "metadata": {
      "application/vnd.databricks.v1+output": {
       "addedWidgets": {},
       "aggData": [],
       "aggError": "",
       "aggOverflow": false,
       "aggSchema": [],
       "aggSeriesLimitReached": false,
       "aggType": "",
       "arguments": {},
       "columnCustomDisplayInfos": {},
       "data": [
        [
         3,
         "kids",
         "fmcg",
         19832,
         1292846.3999999969,
         2019,
         10
        ],
        [
         7,
         "kids",
         "fmcg",
         18411,
         1106415.0799999963,
         2019,
         10
        ],
        [
         6,
         "kids",
         "fmcg",
         19303,
         1155904.0099999944,
         2019,
         10
        ],
        [
         4,
         "kids",
         "fmcg",
         18693,
         1198632.980000016,
         2019,
         10
        ],
        [
         2,
         "kids",
         "fmcg",
         19507,
         1297272.7900000005,
         2019,
         10
        ],
        [
         5,
         "kids",
         "fmcg",
         19384,
         1153125.370000002,
         2019,
         10
        ],
        [
         1,
         "kids",
         "fmcg",
         18909,
         1262839.3200000068,
         2019,
         10
        ],
        [
         3,
         "appliances",
         "iron",
         56975,
         7273869.199999969,
         2019,
         10
        ],
        [
         4,
         "appliances",
         "iron",
         54135,
         7026003.969999998,
         2019,
         10
        ],
        [
         2,
         "appliances",
         "iron",
         58510,
         7446217.500000173,
         2019,
         10
        ]
       ],
       "datasetInfos": [],
       "dbfsResultPath": null,
       "isJsonSchema": true,
       "metadata": {
        "dataframeName": "_sqldf",
        "executionCount": 12
       },
       "overflow": false,
       "plotOptions": {
        "customPlotOptions": {},
        "displayType": "table",
        "pivotAggregation": null,
        "pivotColumns": null,
        "xColumns": null,
        "yColumns": null
       },
       "removedWidgets": [],
       "schema": [
        {
         "metadata": "{}",
         "name": "day_of_week",
         "type": "\"integer\""
        },
        {
         "metadata": "{}",
         "name": "category",
         "type": "\"string\""
        },
        {
         "metadata": "{}",
         "name": "subcategory",
         "type": "\"string\""
        },
        {
         "metadata": "{}",
         "name": "event_count",
         "type": "\"long\""
        },
        {
         "metadata": "{}",
         "name": "total_sales",
         "type": "\"double\""
        },
        {
         "metadata": "{}",
         "name": "year",
         "type": "\"integer\""
        },
        {
         "metadata": "{}",
         "name": "month",
         "type": "\"integer\""
        }
       ],
       "type": "table"
      }
     },
     "output_type": "display_data"
    }
   ],
   "source": [
    "%sql\n",
    "SELECT * FROM jdbr_mkp.mkp_gold_sales_by_day\n",
    "LIMIT 10"
   ]
  },
  {
   "cell_type": "code",
   "execution_count": 0,
   "metadata": {
    "application/vnd.databricks.v1+cell": {
     "cellMetadata": {
      "byteLimit": 2048000,
      "rowLimit": 10000
     },
     "inputWidgets": {},
     "nuid": "261d1ef7-f1d5-452c-83ec-2fc823de5672",
     "showTitle": false,
     "tableResultSettingsMap": {},
     "title": ""
    }
   },
   "outputs": [],
   "source": []
  }
 ],
 "metadata": {
  "application/vnd.databricks.v1+notebook": {
   "computePreferences": null,
   "dashboards": [],
   "environmentMetadata": null,
   "language": "python",
   "notebookMetadata": {
    "mostRecentlyExecutedCommandWithImplicitDF": {
     "commandId": 3140036345287256,
     "dataframes": [
      "_sqldf"
     ]
    },
    "pythonIndentUnit": 4
   },
   "notebookName": "03 - Gold",
   "widgets": {}
  },
  "language_info": {
   "name": "python"
  }
 },
 "nbformat": 4,
 "nbformat_minor": 0
}